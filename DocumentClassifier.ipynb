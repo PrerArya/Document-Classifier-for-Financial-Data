{
  "cells": [
    {
      "cell_type": "code",
      "execution_count": null,
      "metadata": {
        "colab": {
          "base_uri": "https://localhost:8080/"
        },
        "id": "hdZ3QXSxqK8c",
        "outputId": "9b45d623-144f-455d-d8ad-6514b2b5d5d3"
      },
      "outputs": [
        {
          "output_type": "stream",
          "name": "stdout",
          "text": [
            "Drive already mounted at /content/drive; to attempt to forcibly remount, call drive.mount(\"/content/drive\", force_remount=True).\n"
          ]
        }
      ],
      "source": [
        "from google.colab import drive\n",
        "drive.mount('/content/drive')"
      ]
    },
    {
      "cell_type": "markdown",
      "source": [
        "# Data Extraction from html files"
      ],
      "metadata": {
        "id": "FoAfZbNcjLnk"
      }
    },
    {
      "cell_type": "code",
      "execution_count": null,
      "metadata": {
        "colab": {
          "base_uri": "https://localhost:8080/"
        },
        "id": "7mjboqimqwcT",
        "outputId": "0781d35a-039a-49af-c536-f646dea42bcc"
      },
      "outputs": [
        {
          "output_type": "stream",
          "name": "stdout",
          "text": [
            ".DS_Store\n",
            "Balance Sheets\n",
            "Cash Flow\n",
            "Income Statement\n",
            "Notes\n",
            "Others\n"
          ]
        }
      ],
      "source": [
        "#Load the data folder with labels\n",
        "import pandas as pd\n",
        "import os\n",
        "\n",
        "df = pd.DataFrame()\n",
        "\n",
        "source_path = \"/content/drive/MyDrive/data/data\"\n",
        "\n",
        "for i in sorted(os.listdir(source_path)):\n",
        "  print(i)\n"
      ]
    },
    {
      "cell_type": "code",
      "execution_count": null,
      "metadata": {
        "id": "ik2ZfUBdjmTN"
      },
      "outputs": [],
      "source": [
        "#Dictionary storing the folders and data links\n",
        "mapping = {}\n",
        "source_path = \"/content/drive/MyDrive/data/data/\"\n",
        "\n",
        "for i in sorted(os.listdir(source_path)):\n",
        "    # checking if it is directory or not\n",
        "    if os.path.isdir(source_path+i):\n",
        "        # creating the dictionary with class as key\n",
        "        mapping[i] = sorted(os.listdir(source_path+i))"
      ]
    },
    {
      "cell_type": "code",
      "execution_count": null,
      "metadata": {
        "colab": {
          "base_uri": "https://localhost:8080/"
        },
        "id": "SmtGW6OCk9jG",
        "outputId": "ce345fd1-f83b-4481-b78f-a580ef4b5968"
      },
      "outputs": [
        {
          "output_type": "execute_result",
          "data": {
            "text/plain": [
              "dict_keys(['Balance Sheets', 'Cash Flow', 'Income Statement', 'Notes', 'Others'])"
            ]
          },
          "metadata": {},
          "execution_count": 4
        }
      ],
      "source": [
        "mapping.keys()"
      ]
    },
    {
      "cell_type": "code",
      "execution_count": null,
      "metadata": {
        "id": "etzSq9E-lN93"
      },
      "outputs": [],
      "source": [
        "# label or class or target list\n",
        "label = []\n",
        "# links for html\n",
        "html_links = []\n",
        "\n",
        "# iterating through dictionary\n",
        "for i, j in mapping.items():\n",
        "    # iterating through list of files for each class\n",
        "    for k in j:\n",
        "        file_path = source_path + i + \"/\" + k\n",
        "        try:\n",
        "            # reading the file\n",
        "            with open(file_path, 'r') as file:\n",
        "                # appending labels/class/target\n",
        "                label.append(i)\n",
        "                # appending html links\n",
        "                html_links.append(file_path)\n",
        "        except (UnicodeDecodeError, FileNotFoundError, IOError) as e:\n",
        "            print(f\"Skipping file {file_path} due to error: {e}\")"
      ]
    },
    {
      "cell_type": "code",
      "execution_count": null,
      "metadata": {
        "id": "DXUhPCWxm3no"
      },
      "outputs": [],
      "source": [
        "# creating column in dataframe and assigning data\n",
        "df[\"label\"] = label\n",
        "df[\"html_link\"] = html_links"
      ]
    },
    {
      "cell_type": "code",
      "execution_count": null,
      "metadata": {
        "id": "rgIsPY-nHQH4"
      },
      "outputs": [],
      "source": [
        "!pip install weasyprint"
      ]
    },
    {
      "cell_type": "code",
      "execution_count": null,
      "metadata": {
        "id": "IvXmvj1NvhJ_"
      },
      "outputs": [],
      "source": [
        "#convert html files to pdfs\n",
        "import pandas as pd\n",
        "from weasyprint import HTML\n",
        "\n",
        "\n",
        "# Function to convert HTML to PDF\n",
        "def convert_html_to_pdf(html_link):\n",
        "    # Set output file name\n",
        "    pdf_filename = html_link.split('/')[-1].replace('.html', '.pdf')\n",
        "    # Load HTML file\n",
        "    html = HTML(html_link)\n",
        "    # Convert HTML to PDF\n",
        "    pdf_path = pdf_filename\n",
        "    html.write_pdf(pdf_path)\n",
        "    return pdf_path\n",
        "\n",
        "# Apply the conversion function to each HTML link in the DataFrame\n",
        "df['pdf_link'] = df['html_link'].apply(convert_html_to_pdf)\n"
      ]
    },
    {
      "cell_type": "code",
      "execution_count": null,
      "metadata": {
        "colab": {
          "base_uri": "https://localhost:8080/",
          "height": 423
        },
        "id": "L3T2Uhsovjdt",
        "outputId": "834e7cfe-7c4c-434e-f674-d774267c77a8"
      },
      "outputs": [
        {
          "output_type": "execute_result",
          "data": {
            "text/plain": [
              "               label                                          html_link  \\\n",
              "0     Balance Sheets  /content/drive/MyDrive/data/data/Balance Sheet...   \n",
              "1     Balance Sheets  /content/drive/MyDrive/data/data/Balance Sheet...   \n",
              "2     Balance Sheets  /content/drive/MyDrive/data/data/Balance Sheet...   \n",
              "3     Balance Sheets  /content/drive/MyDrive/data/data/Balance Sheet...   \n",
              "4     Balance Sheets  /content/drive/MyDrive/data/data/Balance Sheet...   \n",
              "...              ...                                                ...   \n",
              "2524          Others  /content/drive/MyDrive/data/data/Others/189648...   \n",
              "2525          Others  /content/drive/MyDrive/data/data/Others/189648...   \n",
              "2526          Others  /content/drive/MyDrive/data/data/Others/189648...   \n",
              "2527          Others  /content/drive/MyDrive/data/data/Others/192135...   \n",
              "2528          Others  /content/drive/MyDrive/data/data/Others/192135...   \n",
              "\n",
              "            pdf_link  \n",
              "0          .DS_Store  \n",
              "1     18320959_3.pdf  \n",
              "2     18391125_2.pdf  \n",
              "3     18442877_5.pdf  \n",
              "4     18445487_2.pdf  \n",
              "...              ...  \n",
              "2524  18964858_6.pdf  \n",
              "2525  18964858_7.pdf  \n",
              "2526  18964858_8.pdf  \n",
              "2527  19213523_4.pdf  \n",
              "2528  19213523_5.pdf  \n",
              "\n",
              "[2529 rows x 3 columns]"
            ],
            "text/html": [
              "\n",
              "  <div id=\"df-ba228f0d-d90d-4281-b689-ffb8167bea1c\" class=\"colab-df-container\">\n",
              "    <div>\n",
              "<style scoped>\n",
              "    .dataframe tbody tr th:only-of-type {\n",
              "        vertical-align: middle;\n",
              "    }\n",
              "\n",
              "    .dataframe tbody tr th {\n",
              "        vertical-align: top;\n",
              "    }\n",
              "\n",
              "    .dataframe thead th {\n",
              "        text-align: right;\n",
              "    }\n",
              "</style>\n",
              "<table border=\"1\" class=\"dataframe\">\n",
              "  <thead>\n",
              "    <tr style=\"text-align: right;\">\n",
              "      <th></th>\n",
              "      <th>label</th>\n",
              "      <th>html_link</th>\n",
              "      <th>pdf_link</th>\n",
              "    </tr>\n",
              "  </thead>\n",
              "  <tbody>\n",
              "    <tr>\n",
              "      <th>0</th>\n",
              "      <td>Balance Sheets</td>\n",
              "      <td>/content/drive/MyDrive/data/data/Balance Sheet...</td>\n",
              "      <td>.DS_Store</td>\n",
              "    </tr>\n",
              "    <tr>\n",
              "      <th>1</th>\n",
              "      <td>Balance Sheets</td>\n",
              "      <td>/content/drive/MyDrive/data/data/Balance Sheet...</td>\n",
              "      <td>18320959_3.pdf</td>\n",
              "    </tr>\n",
              "    <tr>\n",
              "      <th>2</th>\n",
              "      <td>Balance Sheets</td>\n",
              "      <td>/content/drive/MyDrive/data/data/Balance Sheet...</td>\n",
              "      <td>18391125_2.pdf</td>\n",
              "    </tr>\n",
              "    <tr>\n",
              "      <th>3</th>\n",
              "      <td>Balance Sheets</td>\n",
              "      <td>/content/drive/MyDrive/data/data/Balance Sheet...</td>\n",
              "      <td>18442877_5.pdf</td>\n",
              "    </tr>\n",
              "    <tr>\n",
              "      <th>4</th>\n",
              "      <td>Balance Sheets</td>\n",
              "      <td>/content/drive/MyDrive/data/data/Balance Sheet...</td>\n",
              "      <td>18445487_2.pdf</td>\n",
              "    </tr>\n",
              "    <tr>\n",
              "      <th>...</th>\n",
              "      <td>...</td>\n",
              "      <td>...</td>\n",
              "      <td>...</td>\n",
              "    </tr>\n",
              "    <tr>\n",
              "      <th>2524</th>\n",
              "      <td>Others</td>\n",
              "      <td>/content/drive/MyDrive/data/data/Others/189648...</td>\n",
              "      <td>18964858_6.pdf</td>\n",
              "    </tr>\n",
              "    <tr>\n",
              "      <th>2525</th>\n",
              "      <td>Others</td>\n",
              "      <td>/content/drive/MyDrive/data/data/Others/189648...</td>\n",
              "      <td>18964858_7.pdf</td>\n",
              "    </tr>\n",
              "    <tr>\n",
              "      <th>2526</th>\n",
              "      <td>Others</td>\n",
              "      <td>/content/drive/MyDrive/data/data/Others/189648...</td>\n",
              "      <td>18964858_8.pdf</td>\n",
              "    </tr>\n",
              "    <tr>\n",
              "      <th>2527</th>\n",
              "      <td>Others</td>\n",
              "      <td>/content/drive/MyDrive/data/data/Others/192135...</td>\n",
              "      <td>19213523_4.pdf</td>\n",
              "    </tr>\n",
              "    <tr>\n",
              "      <th>2528</th>\n",
              "      <td>Others</td>\n",
              "      <td>/content/drive/MyDrive/data/data/Others/192135...</td>\n",
              "      <td>19213523_5.pdf</td>\n",
              "    </tr>\n",
              "  </tbody>\n",
              "</table>\n",
              "<p>2529 rows × 3 columns</p>\n",
              "</div>\n",
              "    <div class=\"colab-df-buttons\">\n",
              "\n",
              "  <div class=\"colab-df-container\">\n",
              "    <button class=\"colab-df-convert\" onclick=\"convertToInteractive('df-ba228f0d-d90d-4281-b689-ffb8167bea1c')\"\n",
              "            title=\"Convert this dataframe to an interactive table.\"\n",
              "            style=\"display:none;\">\n",
              "\n",
              "  <svg xmlns=\"http://www.w3.org/2000/svg\" height=\"24px\" viewBox=\"0 -960 960 960\">\n",
              "    <path d=\"M120-120v-720h720v720H120Zm60-500h600v-160H180v160Zm220 220h160v-160H400v160Zm0 220h160v-160H400v160ZM180-400h160v-160H180v160Zm440 0h160v-160H620v160ZM180-180h160v-160H180v160Zm440 0h160v-160H620v160Z\"/>\n",
              "  </svg>\n",
              "    </button>\n",
              "\n",
              "  <style>\n",
              "    .colab-df-container {\n",
              "      display:flex;\n",
              "      gap: 12px;\n",
              "    }\n",
              "\n",
              "    .colab-df-convert {\n",
              "      background-color: #E8F0FE;\n",
              "      border: none;\n",
              "      border-radius: 50%;\n",
              "      cursor: pointer;\n",
              "      display: none;\n",
              "      fill: #1967D2;\n",
              "      height: 32px;\n",
              "      padding: 0 0 0 0;\n",
              "      width: 32px;\n",
              "    }\n",
              "\n",
              "    .colab-df-convert:hover {\n",
              "      background-color: #E2EBFA;\n",
              "      box-shadow: 0px 1px 2px rgba(60, 64, 67, 0.3), 0px 1px 3px 1px rgba(60, 64, 67, 0.15);\n",
              "      fill: #174EA6;\n",
              "    }\n",
              "\n",
              "    .colab-df-buttons div {\n",
              "      margin-bottom: 4px;\n",
              "    }\n",
              "\n",
              "    [theme=dark] .colab-df-convert {\n",
              "      background-color: #3B4455;\n",
              "      fill: #D2E3FC;\n",
              "    }\n",
              "\n",
              "    [theme=dark] .colab-df-convert:hover {\n",
              "      background-color: #434B5C;\n",
              "      box-shadow: 0px 1px 3px 1px rgba(0, 0, 0, 0.15);\n",
              "      filter: drop-shadow(0px 1px 2px rgba(0, 0, 0, 0.3));\n",
              "      fill: #FFFFFF;\n",
              "    }\n",
              "  </style>\n",
              "\n",
              "    <script>\n",
              "      const buttonEl =\n",
              "        document.querySelector('#df-ba228f0d-d90d-4281-b689-ffb8167bea1c button.colab-df-convert');\n",
              "      buttonEl.style.display =\n",
              "        google.colab.kernel.accessAllowed ? 'block' : 'none';\n",
              "\n",
              "      async function convertToInteractive(key) {\n",
              "        const element = document.querySelector('#df-ba228f0d-d90d-4281-b689-ffb8167bea1c');\n",
              "        const dataTable =\n",
              "          await google.colab.kernel.invokeFunction('convertToInteractive',\n",
              "                                                    [key], {});\n",
              "        if (!dataTable) return;\n",
              "\n",
              "        const docLinkHtml = 'Like what you see? Visit the ' +\n",
              "          '<a target=\"_blank\" href=https://colab.research.google.com/notebooks/data_table.ipynb>data table notebook</a>'\n",
              "          + ' to learn more about interactive tables.';\n",
              "        element.innerHTML = '';\n",
              "        dataTable['output_type'] = 'display_data';\n",
              "        await google.colab.output.renderOutput(dataTable, element);\n",
              "        const docLink = document.createElement('div');\n",
              "        docLink.innerHTML = docLinkHtml;\n",
              "        element.appendChild(docLink);\n",
              "      }\n",
              "    </script>\n",
              "  </div>\n",
              "\n",
              "\n",
              "<div id=\"df-e04ecf0b-5572-422f-986c-454773308fc9\">\n",
              "  <button class=\"colab-df-quickchart\" onclick=\"quickchart('df-e04ecf0b-5572-422f-986c-454773308fc9')\"\n",
              "            title=\"Suggest charts\"\n",
              "            style=\"display:none;\">\n",
              "\n",
              "<svg xmlns=\"http://www.w3.org/2000/svg\" height=\"24px\"viewBox=\"0 0 24 24\"\n",
              "     width=\"24px\">\n",
              "    <g>\n",
              "        <path d=\"M19 3H5c-1.1 0-2 .9-2 2v14c0 1.1.9 2 2 2h14c1.1 0 2-.9 2-2V5c0-1.1-.9-2-2-2zM9 17H7v-7h2v7zm4 0h-2V7h2v10zm4 0h-2v-4h2v4z\"/>\n",
              "    </g>\n",
              "</svg>\n",
              "  </button>\n",
              "\n",
              "<style>\n",
              "  .colab-df-quickchart {\n",
              "      --bg-color: #E8F0FE;\n",
              "      --fill-color: #1967D2;\n",
              "      --hover-bg-color: #E2EBFA;\n",
              "      --hover-fill-color: #174EA6;\n",
              "      --disabled-fill-color: #AAA;\n",
              "      --disabled-bg-color: #DDD;\n",
              "  }\n",
              "\n",
              "  [theme=dark] .colab-df-quickchart {\n",
              "      --bg-color: #3B4455;\n",
              "      --fill-color: #D2E3FC;\n",
              "      --hover-bg-color: #434B5C;\n",
              "      --hover-fill-color: #FFFFFF;\n",
              "      --disabled-bg-color: #3B4455;\n",
              "      --disabled-fill-color: #666;\n",
              "  }\n",
              "\n",
              "  .colab-df-quickchart {\n",
              "    background-color: var(--bg-color);\n",
              "    border: none;\n",
              "    border-radius: 50%;\n",
              "    cursor: pointer;\n",
              "    display: none;\n",
              "    fill: var(--fill-color);\n",
              "    height: 32px;\n",
              "    padding: 0;\n",
              "    width: 32px;\n",
              "  }\n",
              "\n",
              "  .colab-df-quickchart:hover {\n",
              "    background-color: var(--hover-bg-color);\n",
              "    box-shadow: 0 1px 2px rgba(60, 64, 67, 0.3), 0 1px 3px 1px rgba(60, 64, 67, 0.15);\n",
              "    fill: var(--button-hover-fill-color);\n",
              "  }\n",
              "\n",
              "  .colab-df-quickchart-complete:disabled,\n",
              "  .colab-df-quickchart-complete:disabled:hover {\n",
              "    background-color: var(--disabled-bg-color);\n",
              "    fill: var(--disabled-fill-color);\n",
              "    box-shadow: none;\n",
              "  }\n",
              "\n",
              "  .colab-df-spinner {\n",
              "    border: 2px solid var(--fill-color);\n",
              "    border-color: transparent;\n",
              "    border-bottom-color: var(--fill-color);\n",
              "    animation:\n",
              "      spin 1s steps(1) infinite;\n",
              "  }\n",
              "\n",
              "  @keyframes spin {\n",
              "    0% {\n",
              "      border-color: transparent;\n",
              "      border-bottom-color: var(--fill-color);\n",
              "      border-left-color: var(--fill-color);\n",
              "    }\n",
              "    20% {\n",
              "      border-color: transparent;\n",
              "      border-left-color: var(--fill-color);\n",
              "      border-top-color: var(--fill-color);\n",
              "    }\n",
              "    30% {\n",
              "      border-color: transparent;\n",
              "      border-left-color: var(--fill-color);\n",
              "      border-top-color: var(--fill-color);\n",
              "      border-right-color: var(--fill-color);\n",
              "    }\n",
              "    40% {\n",
              "      border-color: transparent;\n",
              "      border-right-color: var(--fill-color);\n",
              "      border-top-color: var(--fill-color);\n",
              "    }\n",
              "    60% {\n",
              "      border-color: transparent;\n",
              "      border-right-color: var(--fill-color);\n",
              "    }\n",
              "    80% {\n",
              "      border-color: transparent;\n",
              "      border-right-color: var(--fill-color);\n",
              "      border-bottom-color: var(--fill-color);\n",
              "    }\n",
              "    90% {\n",
              "      border-color: transparent;\n",
              "      border-bottom-color: var(--fill-color);\n",
              "    }\n",
              "  }\n",
              "</style>\n",
              "\n",
              "  <script>\n",
              "    async function quickchart(key) {\n",
              "      const quickchartButtonEl =\n",
              "        document.querySelector('#' + key + ' button');\n",
              "      quickchartButtonEl.disabled = true;  // To prevent multiple clicks.\n",
              "      quickchartButtonEl.classList.add('colab-df-spinner');\n",
              "      try {\n",
              "        const charts = await google.colab.kernel.invokeFunction(\n",
              "            'suggestCharts', [key], {});\n",
              "      } catch (error) {\n",
              "        console.error('Error during call to suggestCharts:', error);\n",
              "      }\n",
              "      quickchartButtonEl.classList.remove('colab-df-spinner');\n",
              "      quickchartButtonEl.classList.add('colab-df-quickchart-complete');\n",
              "    }\n",
              "    (() => {\n",
              "      let quickchartButtonEl =\n",
              "        document.querySelector('#df-e04ecf0b-5572-422f-986c-454773308fc9 button');\n",
              "      quickchartButtonEl.style.display =\n",
              "        google.colab.kernel.accessAllowed ? 'block' : 'none';\n",
              "    })();\n",
              "  </script>\n",
              "</div>\n",
              "\n",
              "  <div id=\"id_b7e99180-d23e-402b-ab12-334567d51d81\">\n",
              "    <style>\n",
              "      .colab-df-generate {\n",
              "        background-color: #E8F0FE;\n",
              "        border: none;\n",
              "        border-radius: 50%;\n",
              "        cursor: pointer;\n",
              "        display: none;\n",
              "        fill: #1967D2;\n",
              "        height: 32px;\n",
              "        padding: 0 0 0 0;\n",
              "        width: 32px;\n",
              "      }\n",
              "\n",
              "      .colab-df-generate:hover {\n",
              "        background-color: #E2EBFA;\n",
              "        box-shadow: 0px 1px 2px rgba(60, 64, 67, 0.3), 0px 1px 3px 1px rgba(60, 64, 67, 0.15);\n",
              "        fill: #174EA6;\n",
              "      }\n",
              "\n",
              "      [theme=dark] .colab-df-generate {\n",
              "        background-color: #3B4455;\n",
              "        fill: #D2E3FC;\n",
              "      }\n",
              "\n",
              "      [theme=dark] .colab-df-generate:hover {\n",
              "        background-color: #434B5C;\n",
              "        box-shadow: 0px 1px 3px 1px rgba(0, 0, 0, 0.15);\n",
              "        filter: drop-shadow(0px 1px 2px rgba(0, 0, 0, 0.3));\n",
              "        fill: #FFFFFF;\n",
              "      }\n",
              "    </style>\n",
              "    <button class=\"colab-df-generate\" onclick=\"generateWithVariable('df')\"\n",
              "            title=\"Generate code using this dataframe.\"\n",
              "            style=\"display:none;\">\n",
              "\n",
              "  <svg xmlns=\"http://www.w3.org/2000/svg\" height=\"24px\"viewBox=\"0 0 24 24\"\n",
              "       width=\"24px\">\n",
              "    <path d=\"M7,19H8.4L18.45,9,17,7.55,7,17.6ZM5,21V16.75L18.45,3.32a2,2,0,0,1,2.83,0l1.4,1.43a1.91,1.91,0,0,1,.58,1.4,1.91,1.91,0,0,1-.58,1.4L9.25,21ZM18.45,9,17,7.55Zm-12,3A5.31,5.31,0,0,0,4.9,8.1,5.31,5.31,0,0,0,1,6.5,5.31,5.31,0,0,0,4.9,4.9,5.31,5.31,0,0,0,6.5,1,5.31,5.31,0,0,0,8.1,4.9,5.31,5.31,0,0,0,12,6.5,5.46,5.46,0,0,0,6.5,12Z\"/>\n",
              "  </svg>\n",
              "    </button>\n",
              "    <script>\n",
              "      (() => {\n",
              "      const buttonEl =\n",
              "        document.querySelector('#id_b7e99180-d23e-402b-ab12-334567d51d81 button.colab-df-generate');\n",
              "      buttonEl.style.display =\n",
              "        google.colab.kernel.accessAllowed ? 'block' : 'none';\n",
              "\n",
              "      buttonEl.onclick = () => {\n",
              "        google.colab.notebook.generateWithVariable('df');\n",
              "      }\n",
              "      })();\n",
              "    </script>\n",
              "  </div>\n",
              "\n",
              "    </div>\n",
              "  </div>\n"
            ],
            "application/vnd.google.colaboratory.intrinsic+json": {
              "type": "dataframe",
              "variable_name": "df",
              "summary": "{\n  \"name\": \"df\",\n  \"rows\": 2529,\n  \"fields\": [\n    {\n      \"column\": \"label\",\n      \"properties\": {\n        \"dtype\": \"category\",\n        \"num_unique_values\": 5,\n        \"samples\": [\n          \"Cash Flow\",\n          \"Others\",\n          \"Income Statement\"\n        ],\n        \"semantic_type\": \"\",\n        \"description\": \"\"\n      }\n    },\n    {\n      \"column\": \"html_link\",\n      \"properties\": {\n        \"dtype\": \"string\",\n        \"num_unique_values\": 2529,\n        \"samples\": [\n          \"/content/drive/MyDrive/data/data/Notes/18888243_table_87.html\",\n          \"/content/drive/MyDrive/data/data/Others/18646808_3.html\",\n          \"/content/drive/MyDrive/data/data/Balance Sheets/18868707_3.html\"\n        ],\n        \"semantic_type\": \"\",\n        \"description\": \"\"\n      }\n    },\n    {\n      \"column\": \"pdf_link\",\n      \"properties\": {\n        \"dtype\": \"string\",\n        \"num_unique_values\": 2526,\n        \"samples\": [\n          \"18759755_9.pdf\",\n          \"18630219_table_38.pdf\",\n          \"18868707_3.pdf\"\n        ],\n        \"semantic_type\": \"\",\n        \"description\": \"\"\n      }\n    }\n  ]\n}"
            }
          },
          "metadata": {},
          "execution_count": 9
        }
      ],
      "source": [
        "df"
      ]
    },
    {
      "cell_type": "code",
      "source": [
        "!pip install PyMuPDF"
      ],
      "metadata": {
        "id": "Hi7UD_dPqFpl"
      },
      "execution_count": null,
      "outputs": []
    },
    {
      "cell_type": "code",
      "execution_count": null,
      "metadata": {
        "colab": {
          "base_uri": "https://localhost:8080/"
        },
        "id": "Se_I-bz_Etou",
        "outputId": "1c08c237-4222-4025-dc0d-9589701d1c8e"
      },
      "outputs": [
        {
          "output_type": "stream",
          "name": "stdout",
          "text": [
            "            label                                          html_link  \\\n",
            "0  Balance Sheets  /content/drive/MyDrive/data/data/Balance Sheet...   \n",
            "1  Balance Sheets  /content/drive/MyDrive/data/data/Balance Sheet...   \n",
            "2  Balance Sheets  /content/drive/MyDrive/data/data/Balance Sheet...   \n",
            "3  Balance Sheets  /content/drive/MyDrive/data/data/Balance Sheet...   \n",
            "4  Balance Sheets  /content/drive/MyDrive/data/data/Balance Sheet...   \n",
            "\n",
            "         pdf_link                                           pdf_text  \n",
            "0       .DS_Store  \u0001Bud1 \u0001H\\n\u0001H \\n\f\u0001@\\n \\n\f\b\b\u0003\u0001\u0004И\\n\u0014\u0010460658\\n  \f\u0001...  \n",
            "1  18320959_3.pdf  (7 in lacs)\\n(7 in lacs)\\n_1_\\nStandalone\\nCon...  \n",
            "2  18391125_2.pdf  Consolidated\\nStandalone\\nParticulars\\nAs at\\n...  \n",
            "3  18442877_5.pdf  Standalone\\nConsolidated\\nAudited\\nAudited\\nPa...  \n",
            "4  18445487_2.pdf  GUJARAT NARMADA VALLEY FERTILIZERS & CHEMICALS...  \n"
          ]
        }
      ],
      "source": [
        "#extracting text form PDf as saving to new col in datafram\n",
        "import pandas as pd\n",
        "import fitz  # PyMuPDF\n",
        "\n",
        "def extract_text_from_pdf(pdf_link):\n",
        "    try:\n",
        "        # Open the PDF file\n",
        "        document = fitz.open(pdf_link)\n",
        "        text = \"\"\n",
        "        # Iterate through each page and extract text\n",
        "        for page_num in range(len(document)):\n",
        "            page = document.load_page(page_num)\n",
        "            text += page.get_text()\n",
        "        return text\n",
        "    except Exception as e:\n",
        "        print(f\"Error extracting text from {pdf_link}: {e}\")\n",
        "        return None\n",
        "\n",
        "# Apply the extraction function to each PDF link in the DataFrame\n",
        "df['pdf_text'] = df['pdf_link'].apply(extract_text_from_pdf)\n",
        "\n",
        "# Print the DataFrame to verify the new column has been added\n",
        "print(df.head())\n"
      ]
    },
    {
      "cell_type": "code",
      "source": [
        "df.iloc[1]['pdf_text']"
      ],
      "metadata": {
        "colab": {
          "base_uri": "https://localhost:8080/",
          "height": 163
        },
        "id": "Xj-gQk3mqROB",
        "outputId": "0b3edb86-9b10-4e08-8ad4-a9514339d768"
      },
      "execution_count": null,
      "outputs": [
        {
          "output_type": "execute_result",
          "data": {
            "text/plain": [
              "'(7 in lacs)\\n(7 in lacs)\\n_1_\\nStandalone\\nConsolidated\\nSr.\\nNo.\\nParticulars\\nAs at\\n31st\\nMarch\\n2018\\nAs at\\n31st\\nMarch\\n2017\\nAs at\\n31st\\nMarch\\n2018\\nAs at\\n31st\\nMarch\\n2017\\nA Assets\\n1) Non-Current Assets\\n(a) Property, Plant\\nand Equipment\\n10,723.96 9,281.23\\n10,723.96 9,281.23\\n(b) Capital work in\\nprogress\\n607.46\\n-\\n607.46\\n-\\n(c) Intangible assets\\n17.44\\n18.71\\n17.44\\n18.71\\n(d) Financial assets\\n(i) Non-current\\ninvestments\\n150.00\\n150.00\\n63.42\\n24.69\\n(ii) Loans\\n-\\n-\\n-\\n-\\n(iii) Other financial\\nassets\\n197.66\\n130.62\\n197.66\\n130.62\\n(e) Other non-current\\nassets\\n-\\n-\\n-\\n-\\nTotal Non-Current\\nAssets (A)\\n11,696.52 9,580.56\\n11,609.94 9,455.25\\n2) Current Assets\\n(a) Inventories\\n8,002.02\\n13,925.10 8,002.02\\n13,925.10\\n(b) Financial assets\\n(i) Trade Receivables\\n18,541.75 13,671.01 18,541.75 13,671.01\\n(ii) Cash and cash\\nequivalents\\n2,883.82\\n177.11\\n2,883.82\\n177.11\\n(iii) Bank balances\\nother than (ii) above\\n357.08\\n1,538.45\\n357.08\\n1,538.45\\n(ivj Loans\\n3.12\\n1.79\\n3.12\\n1.79\\n(v) Other Financial\\nassets\\n220.19\\n1,035.36\\n220.19\\n1,035.36\\n(c) Other current\\nassets\\n684.59\\n2,169.81\\n684.59\\n2,169.81\\nTotal Current Assets\\n(B)\\n30,692.57 32,518.63 30,692.57 32,518.63\\n-\\nTotal Assets (A)+ (B)\\n42,389.09 42,099.19 42,302.51 41,973.88\\nB Equity & Liabilities\\n1) Equity ______\\n(a) Equity share\\ncapital\\n1,659.06\\n1,659.06\\n1,659.06\\n1,659.06\\n(b) Other Equity\\n24,154.09 14,611.93 24,067.51 14,486.61\\nTotal Equity (A)\\n25,813.15 16,270.99 25,726.57 16,145.67\\n2) Liabilities\\nNon-Current\\nLiabilities\\n(a) Financial\\nLiabilities\\n(i) Long term\\nborrowings\\n-\\n-\\n-\\n-\\n(ii) Other Non Current\\nFinancial Liability\\n0.30\\n0.30\\n0.30\\n0.30\\n(bj Long term\\nprovisions\\n449.43\\n401.26\\n449.43\\n401.26\\n(c) Deferred tax\\nliabilities (Net)\\n1,061.51\\n399.63\\n1,061.51\\n399.63\\nTotal Non-Current\\nLiabilities (B)\\n1,511.24\\n801.19\\n1,511.24\\n801.19\\nCurrent Liabilities\\n(a) Financial\\nLiabilities\\n(i) Short term\\nborrowings\\n-\\n13,710.19 -\\n13,710.19\\n(ii) Trade payables\\n12,574.73 9,872.63\\n12,574.73 9,872.63\\n(iii) Other Current\\nFinancial liabilities\\n295.21\\n453.44\\n295.21\\n453.44\\n(b) Other current\\nliabilities\\n793.04\\n161.10\\n793.04\\n161/19\\n(c)Short term\\nprovisions\\n40/07\\n38.26\\n40.07\\n38.26\\n(d) Current tax\\nliabilities (Net)\\n1,361/65\\n791.32\\n1,361.65\\n791.32\\nTotal Current\\nLiabilities (C)\\n15,064.70 25,027.03 15,064.70 25,027.03\\nTotal Equity and\\nLiabilities (A)+ (B) +\\n(C)\\n42,389.09 42,099.19 42,302.51 41,973.88\\n'"
            ],
            "application/vnd.google.colaboratory.intrinsic+json": {
              "type": "string"
            }
          },
          "metadata": {},
          "execution_count": 15
        }
      ]
    },
    {
      "cell_type": "code",
      "source": [
        "df.shape"
      ],
      "metadata": {
        "colab": {
          "base_uri": "https://localhost:8080/"
        },
        "id": "Hl5t0dRbqaOO",
        "outputId": "a6a64b3c-a3f7-4b2d-f08f-4305a137a578"
      },
      "execution_count": null,
      "outputs": [
        {
          "output_type": "execute_result",
          "data": {
            "text/plain": [
              "(2529, 4)"
            ]
          },
          "metadata": {},
          "execution_count": 16
        }
      ]
    },
    {
      "cell_type": "code",
      "source": [
        "#extracting text from html_links\n",
        "import pandas as pd\n",
        "from bs4 import BeautifulSoup\n",
        "\n",
        "# Function to extract text from HTML\n",
        "def extract_text_from_html(html_link):\n",
        "    try:\n",
        "        # Open the HTML file and read its content\n",
        "        with open(html_link, 'r', encoding='utf-8') as file:\n",
        "            content = file.read()\n",
        "        # Parse the HTML content\n",
        "        soup = BeautifulSoup(content, 'lxml')\n",
        "        # Extract text from the HTML\n",
        "        text = soup.get_text(separator=' ', strip=True)\n",
        "        return text\n",
        "    except Exception as e:\n",
        "        print(f\"Error extracting text from {html_link}: {e}\")\n",
        "        return None\n",
        "\n",
        "# Apply the extraction function to each HTML link in the DataFrame\n",
        "df['html_text'] = df['html_link'].apply(extract_text_from_html)\n",
        "\n",
        "# Print the DataFrame to verify the new column has been added\n",
        "print(df.head())\n"
      ],
      "metadata": {
        "colab": {
          "base_uri": "https://localhost:8080/"
        },
        "id": "88knb69Xq1aO",
        "outputId": "d535b49c-a447-4232-8529-e4c2d803466b"
      },
      "execution_count": null,
      "outputs": [
        {
          "output_type": "stream",
          "name": "stdout",
          "text": [
            "Error extracting text from /content/drive/MyDrive/data/data/Balance Sheets/.DS_Store: 'utf-8' codec can't decode byte 0xff in position 582: invalid start byte\n",
            "Error extracting text from /content/drive/MyDrive/data/data/Income Statement/.DS_Store: 'utf-8' codec can't decode byte 0x98 in position 581: invalid start byte\n",
            "Error extracting text from /content/drive/MyDrive/data/data/Notes/.DS_Store: 'utf-8' codec can't decode byte 0xe0 in position 10: invalid continuation byte\n",
            "Error extracting text from /content/drive/MyDrive/data/data/Others/.DS_Store: 'utf-8' codec can't decode byte 0xa0 in position 22: invalid start byte\n",
            "            label                                          html_link  \\\n",
            "0  Balance Sheets  /content/drive/MyDrive/data/data/Balance Sheet...   \n",
            "1  Balance Sheets  /content/drive/MyDrive/data/data/Balance Sheet...   \n",
            "2  Balance Sheets  /content/drive/MyDrive/data/data/Balance Sheet...   \n",
            "3  Balance Sheets  /content/drive/MyDrive/data/data/Balance Sheet...   \n",
            "4  Balance Sheets  /content/drive/MyDrive/data/data/Balance Sheet...   \n",
            "\n",
            "         pdf_link                                           pdf_text  \\\n",
            "0       .DS_Store  \u0001Bud1 \u0001H\\n\u0001H \\n\f\u0001@\\n \\n\f\b\b\u0003\u0001\u0004И\\n\u0014\u0010460658\\n  \f\u0001...   \n",
            "1  18320959_3.pdf  (7 in lacs)\\n(7 in lacs)\\n_1_\\nStandalone\\nCon...   \n",
            "2  18391125_2.pdf  Consolidated\\nStandalone\\nParticulars\\nAs at\\n...   \n",
            "3  18442877_5.pdf  Standalone\\nConsolidated\\nAudited\\nAudited\\nPa...   \n",
            "4  18445487_2.pdf  GUJARAT NARMADA VALLEY FERTILIZERS & CHEMICALS...   \n",
            "\n",
            "                                           html_text  \n",
            "0                                               None  \n",
            "1  (7 in lacs) (7 in lacs) _1_ Standalone Consoli...  \n",
            "2  Consolidated Standalone Particulars As at As a...  \n",
            "3  Standalone Consolidated Audited Audited Partic...  \n",
            "4  GUJARAT NARMADA VALLEY FERTILIZERS & CHEMICALS...  \n"
          ]
        }
      ]
    },
    {
      "cell_type": "code",
      "source": [
        "df.to_csv('/content/sample_data/data.csv', index=False)\n"
      ],
      "metadata": {
        "id": "S2zFS_W5rn1g"
      },
      "execution_count": null,
      "outputs": []
    },
    {
      "cell_type": "markdown",
      "source": [
        "#Data Extraction done now we will start with data preprocessing and model building"
      ],
      "metadata": {
        "id": "ITR3tSYDi5m_"
      }
    },
    {
      "cell_type": "code",
      "source": [
        "#import the dataset\n",
        "import pandas as pd\n",
        "dataset = pd.read_csv('/content/data (1).csv')"
      ],
      "metadata": {
        "id": "mkbImBcysyeG"
      },
      "execution_count": 11,
      "outputs": []
    },
    {
      "cell_type": "code",
      "source": [
        "dataset = dataset.dropna(subset=['html_text'])"
      ],
      "metadata": {
        "id": "nGd36HD52-Ra"
      },
      "execution_count": 12,
      "outputs": []
    },
    {
      "cell_type": "code",
      "source": [
        "Newdataset = dataset"
      ],
      "metadata": {
        "id": "WD8sAbUe8l8V"
      },
      "execution_count": 13,
      "outputs": []
    },
    {
      "cell_type": "code",
      "source": [
        "# make a new dataframe for each class and its data containing the most occurring word in them\n",
        "# Create a new DataFrame with rows where the 'label' is 'Balance Sheets'\n",
        "dfBalanceSheets = Newdataset[Newdataset['label'] == 'Balance Sheets'][['pdf_text']]\n",
        "dfBalanceSheets['label'] = 'Balance Sheets'"
      ],
      "metadata": {
        "id": "PMAwhxO03yIC"
      },
      "execution_count": 14,
      "outputs": []
    },
    {
      "cell_type": "code",
      "source": [
        "dfBalanceSheets"
      ],
      "metadata": {
        "id": "vg8KvL3G48Ze"
      },
      "execution_count": null,
      "outputs": []
    },
    {
      "cell_type": "code",
      "source": [
        "import io\n",
        "from io import StringIO\n",
        "import os\n",
        "import glob\n",
        "import sys\n",
        "import string\n",
        "from nltk.corpus import stopwords\n",
        "import matplotlib.pyplot as plt\n",
        "from nltk.stem import WordNetLemmatizer\n",
        "import warnings\n",
        "warnings.filterwarnings('ignore')"
      ],
      "metadata": {
        "id": "VIklFRmO6e4j"
      },
      "execution_count": 16,
      "outputs": []
    },
    {
      "cell_type": "code",
      "source": [
        "!python -m nltk.downloader stopwords\n",
        "!python -m nltk.downloader wordnet"
      ],
      "metadata": {
        "id": "UxEXlhx2605M"
      },
      "execution_count": null,
      "outputs": []
    },
    {
      "cell_type": "code",
      "source": [
        "'''Data cleaning: 1.removing special char 2. removing roman values\n",
        " 3. removing specified char 4.removing numeric values 5.removing standalone alphbets and numerics 6.converting words to their dictionary form '''\n",
        "import re\n",
        "import string\n",
        "from nltk.corpus import stopwords\n",
        "from nltk.stem import WordNetLemmatizer\n",
        "\n",
        "# Function to remove specific patterns\n",
        "def remove_patterns(text):\n",
        "    # Defining patterns to remove\n",
        "    patterns_to_remove = [r'\\b\\d+(?:st|nd|rd|th)\\b', r'\\bbj\\b', r'\\bivj\\b']\n",
        "\n",
        "    # Replace patterns with empty string\n",
        "    for pattern in patterns_to_remove:\n",
        "        text = re.sub(pattern, '', text)\n",
        "    return text\n",
        "\n",
        "def remove_roman(text):\n",
        "    # Define pattern for Roman numerals (case-insensitive)\n",
        "    roman_pattern = r'\\b(?:i{1,3}|iv|v|vi{0,3}|ix|x{1,3}|xl|l|lx{0,3}|xc|c{1,3}|cd|d|dc{0,3}|cm|m{1,3})\\b'\n",
        "    # Replace Roman numerals with empty string\n",
        "    return re.sub(roman_pattern, '', text, flags=re.IGNORECASE)\n",
        "\n",
        "# Pre-processing the extracted textual data\n",
        "stop = stopwords.words('english')\n",
        "stemmer = WordNetLemmatizer()\n",
        "\n",
        "for index, row in dfBalanceSheets.iterrows():\n",
        "    text = row['pdf_text']\n",
        "    # Lower case conversion\n",
        "    text = \" \".join(text.lower() for text in text.split())\n",
        "    # Getting rid of special characters\n",
        "    text = text.translate(str.maketrans('', '', string.punctuation))\n",
        "    # Removing specific patterns\n",
        "    text = remove_patterns(text)\n",
        "    # Removing standalone numeric values\n",
        "    text = re.sub(r'\\b\\d+\\b', '', text)\n",
        "    # Removing Roman numerals\n",
        "    text = remove_roman(text)\n",
        "    # Removing stop words\n",
        "    text = \" \".join(word for word in text.split() if word not in stop)\n",
        "    # Removing single letters\n",
        "    text = \" \".join(word for word in text.split() if len(word) > 1)\n",
        "    # Converting words to their dictionary form\n",
        "    text = \" \".join(stemmer.lemmatize(word) for word in text.split())\n",
        "    # Update the 'pdf_text' column with preprocessed text\n",
        "    dfBalanceSheets.at[index, 'pdf_text'] = text\n"
      ],
      "metadata": {
        "id": "hGbIFpKe538I"
      },
      "execution_count": 18,
      "outputs": []
    },
    {
      "cell_type": "code",
      "source": [
        "dfBalanceSheets.iloc[1]['pdf_text']"
      ],
      "metadata": {
        "colab": {
          "base_uri": "https://localhost:8080/",
          "height": 126
        },
        "id": "laMJ0SwI7Ay0",
        "outputId": "dac401fc-38f3-4dbf-a48f-d0293697bd45"
      },
      "execution_count": 19,
      "outputs": [
        {
          "output_type": "execute_result",
          "data": {
            "text/plain": [
              "'consolidated standalone particular mar18 mar17 mar18 mar17 asset noncurrent asset property plant equipment capital workinprogress goodwill intangible asset intangible asset development financial asset investment loan financial asset deferred tax asset net income tax asset net noncurrent asset total noncurrent asset current asset inventory financial asset investment trade receivables cash cash equivalent bank balance loan financial asset current asset total current asset total asset equity liability equity equity share capital equity equity attributable shareholder company noncontrolling interest total equity noncurrent liability financial liability borrowing financial liability provision deferred tax liability net income tax liability net noncurrent liability total noncurrent liability current liability financial liability borrowing trade payable financial liability income tax liability net provision current liability total current liability total liability total equity liability'"
            ],
            "application/vnd.google.colaboratory.intrinsic+json": {
              "type": "string"
            }
          },
          "metadata": {},
          "execution_count": 19
        }
      ]
    },
    {
      "cell_type": "code",
      "source": [
        "# Plotting 5 most occuring words in the 'BalanceSheets' documents\n",
        "\n",
        "BalanceSheetsfreq = pd.Series(' '.join(dfBalanceSheets['pdf_text']).split()).value_counts()[:5]\n",
        "BalanceSheetsfreq.plot(kind='barh');\n",
        "plt.show()"
      ],
      "metadata": {
        "colab": {
          "base_uri": "https://localhost:8080/",
          "height": 430
        },
        "id": "Mc7u3xuE_8Pg",
        "outputId": "d96fa6d3-4a6c-4383-ade4-ea40ce8ebf71"
      },
      "execution_count": 20,
      "outputs": [
        {
          "output_type": "display_data",
          "data": {
            "text/plain": [
              "<Figure size 640x480 with 1 Axes>"
            ],
            "image/png": "[encoded data removed]"
          },
          "metadata": {}
        }
      ]
    },
    {
      "cell_type": "code",
      "source": [
        "#Adding these top 5 words as an additional features to the dataframe which will be useful for classification algorithms\n",
        "dfBalanceSheets['Identifiers'] = 'equity,financial,current,liability,asset'\n",
        "dfBalanceSheets[:5]"
      ],
      "metadata": {
        "colab": {
          "base_uri": "https://localhost:8080/",
          "height": 206
        },
        "id": "tj58kACSRf0l",
        "outputId": "a8b465b0-2784-40b2-e528-b74383f6f8a1"
      },
      "execution_count": 21,
      "outputs": [
        {
          "output_type": "execute_result",
          "data": {
            "text/plain": [
              "                                            pdf_text           label  \\\n",
              "1  lac lac standalone consolidated sr particular ...  Balance Sheets   \n",
              "2  consolidated standalone particular mar18 mar17...  Balance Sheets   \n",
              "3  standalone consolidated audited audited partic...  Balance Sheets   \n",
              "4  gujarat narmada valley fertilizer chemical lim...  Balance Sheets   \n",
              "5  standalone consolidated particular equity liab...  Balance Sheets   \n",
              "\n",
              "                                Identifiers  \n",
              "1  equity,financial,current,liability,asset  \n",
              "2  equity,financial,current,liability,asset  \n",
              "3  equity,financial,current,liability,asset  \n",
              "4  equity,financial,current,liability,asset  \n",
              "5  equity,financial,current,liability,asset  "
            ],
            "text/html": [
              "\n",
              "  <div id=\"df-6a8c3a72-f1c5-4382-a092-effde8c9d921\" class=\"colab-df-container\">\n",
              "    <div>\n",
              "<style scoped>\n",
              "    .dataframe tbody tr th:only-of-type {\n",
              "        vertical-align: middle;\n",
              "    }\n",
              "\n",
              "    .dataframe tbody tr th {\n",
              "        vertical-align: top;\n",
              "    }\n",
              "\n",
              "    .dataframe thead th {\n",
              "        text-align: right;\n",
              "    }\n",
              "</style>\n",
              "<table border=\"1\" class=\"dataframe\">\n",
              "  <thead>\n",
              "    <tr style=\"text-align: right;\">\n",
              "      <th></th>\n",
              "      <th>pdf_text</th>\n",
              "      <th>label</th>\n",
              "      <th>Identifiers</th>\n",
              "    </tr>\n",
              "  </thead>\n",
              "  <tbody>\n",
              "    <tr>\n",
              "      <th>1</th>\n",
              "      <td>lac lac standalone consolidated sr particular ...</td>\n",
              "      <td>Balance Sheets</td>\n",
              "      <td>equity,financial,current,liability,asset</td>\n",
              "    </tr>\n",
              "    <tr>\n",
              "      <th>2</th>\n",
              "      <td>consolidated standalone particular mar18 mar17...</td>\n",
              "      <td>Balance Sheets</td>\n",
              "      <td>equity,financial,current,liability,asset</td>\n",
              "    </tr>\n",
              "    <tr>\n",
              "      <th>3</th>\n",
              "      <td>standalone consolidated audited audited partic...</td>\n",
              "      <td>Balance Sheets</td>\n",
              "      <td>equity,financial,current,liability,asset</td>\n",
              "    </tr>\n",
              "    <tr>\n",
              "      <th>4</th>\n",
              "      <td>gujarat narmada valley fertilizer chemical lim...</td>\n",
              "      <td>Balance Sheets</td>\n",
              "      <td>equity,financial,current,liability,asset</td>\n",
              "    </tr>\n",
              "    <tr>\n",
              "      <th>5</th>\n",
              "      <td>standalone consolidated particular equity liab...</td>\n",
              "      <td>Balance Sheets</td>\n",
              "      <td>equity,financial,current,liability,asset</td>\n",
              "    </tr>\n",
              "  </tbody>\n",
              "</table>\n",
              "</div>\n",
              "    <div class=\"colab-df-buttons\">\n",
              "\n",
              "  <div class=\"colab-df-container\">\n",
              "    <button class=\"colab-df-convert\" onclick=\"convertToInteractive('df-6a8c3a72-f1c5-4382-a092-effde8c9d921')\"\n",
              "            title=\"Convert this dataframe to an interactive table.\"\n",
              "            style=\"display:none;\">\n",
              "\n",
              "  <svg xmlns=\"http://www.w3.org/2000/svg\" height=\"24px\" viewBox=\"0 -960 960 960\">\n",
              "    <path d=\"M120-120v-720h720v720H120Zm60-500h600v-160H180v160Zm220 220h160v-160H400v160Zm0 220h160v-160H400v160ZM180-400h160v-160H180v160Zm440 0h160v-160H620v160ZM180-180h160v-160H180v160Zm440 0h160v-160H620v160Z\"/>\n",
              "  </svg>\n",
              "    </button>\n",
              "\n",
              "  <style>\n",
              "    .colab-df-container {\n",
              "      display:flex;\n",
              "      gap: 12px;\n",
              "    }\n",
              "\n",
              "    .colab-df-convert {\n",
              "      background-color: #E8F0FE;\n",
              "      border: none;\n",
              "      border-radius: 50%;\n",
              "      cursor: pointer;\n",
              "      display: none;\n",
              "      fill: #1967D2;\n",
              "      height: 32px;\n",
              "      padding: 0 0 0 0;\n",
              "      width: 32px;\n",
              "    }\n",
              "\n",
              "    .colab-df-convert:hover {\n",
              "      background-color: #E2EBFA;\n",
              "      box-shadow: 0px 1px 2px rgba(60, 64, 67, 0.3), 0px 1px 3px 1px rgba(60, 64, 67, 0.15);\n",
              "      fill: #174EA6;\n",
              "    }\n",
              "\n",
              "    .colab-df-buttons div {\n",
              "      margin-bottom: 4px;\n",
              "    }\n",
              "\n",
              "    [theme=dark] .colab-df-convert {\n",
              "      background-color: #3B4455;\n",
              "      fill: #D2E3FC;\n",
              "    }\n",
              "\n",
              "    [theme=dark] .colab-df-convert:hover {\n",
              "      background-color: #434B5C;\n",
              "      box-shadow: 0px 1px 3px 1px rgba(0, 0, 0, 0.15);\n",
              "      filter: drop-shadow(0px 1px 2px rgba(0, 0, 0, 0.3));\n",
              "      fill: #FFFFFF;\n",
              "    }\n",
              "  </style>\n",
              "\n",
              "    <script>\n",
              "      const buttonEl =\n",
              "        document.querySelector('#df-6a8c3a72-f1c5-4382-a092-effde8c9d921 button.colab-df-convert');\n",
              "      buttonEl.style.display =\n",
              "        google.colab.kernel.accessAllowed ? 'block' : 'none';\n",
              "\n",
              "      async function convertToInteractive(key) {\n",
              "        const element = document.querySelector('#df-6a8c3a72-f1c5-4382-a092-effde8c9d921');\n",
              "        const dataTable =\n",
              "          await google.colab.kernel.invokeFunction('convertToInteractive',\n",
              "                                                    [key], {});\n",
              "        if (!dataTable) return;\n",
              "\n",
              "        const docLinkHtml = 'Like what you see? Visit the ' +\n",
              "          '<a target=\"_blank\" href=https://colab.research.google.com/notebooks/data_table.ipynb>data table notebook</a>'\n",
              "          + ' to learn more about interactive tables.';\n",
              "        element.innerHTML = '';\n",
              "        dataTable['output_type'] = 'display_data';\n",
              "        await google.colab.output.renderOutput(dataTable, element);\n",
              "        const docLink = document.createElement('div');\n",
              "        docLink.innerHTML = docLinkHtml;\n",
              "        element.appendChild(docLink);\n",
              "      }\n",
              "    </script>\n",
              "  </div>\n",
              "\n",
              "\n",
              "<div id=\"df-e1e0e11c-6163-4f25-9cc0-f0a8d48f57ac\">\n",
              "  <button class=\"colab-df-quickchart\" onclick=\"quickchart('df-e1e0e11c-6163-4f25-9cc0-f0a8d48f57ac')\"\n",
              "            title=\"Suggest charts\"\n",
              "            style=\"display:none;\">\n",
              "\n",
              "<svg xmlns=\"http://www.w3.org/2000/svg\" height=\"24px\"viewBox=\"0 0 24 24\"\n",
              "     width=\"24px\">\n",
              "    <g>\n",
              "        <path d=\"M19 3H5c-1.1 0-2 .9-2 2v14c0 1.1.9 2 2 2h14c1.1 0 2-.9 2-2V5c0-1.1-.9-2-2-2zM9 17H7v-7h2v7zm4 0h-2V7h2v10zm4 0h-2v-4h2v4z\"/>\n",
              "    </g>\n",
              "</svg>\n",
              "  </button>\n",
              "\n",
              "<style>\n",
              "  .colab-df-quickchart {\n",
              "      --bg-color: #E8F0FE;\n",
              "      --fill-color: #1967D2;\n",
              "      --hover-bg-color: #E2EBFA;\n",
              "      --hover-fill-color: #174EA6;\n",
              "      --disabled-fill-color: #AAA;\n",
              "      --disabled-bg-color: #DDD;\n",
              "  }\n",
              "\n",
              "  [theme=dark] .colab-df-quickchart {\n",
              "      --bg-color: #3B4455;\n",
              "      --fill-color: #D2E3FC;\n",
              "      --hover-bg-color: #434B5C;\n",
              "      --hover-fill-color: #FFFFFF;\n",
              "      --disabled-bg-color: #3B4455;\n",
              "      --disabled-fill-color: #666;\n",
              "  }\n",
              "\n",
              "  .colab-df-quickchart {\n",
              "    background-color: var(--bg-color);\n",
              "    border: none;\n",
              "    border-radius: 50%;\n",
              "    cursor: pointer;\n",
              "    display: none;\n",
              "    fill: var(--fill-color);\n",
              "    height: 32px;\n",
              "    padding: 0;\n",
              "    width: 32px;\n",
              "  }\n",
              "\n",
              "  .colab-df-quickchart:hover {\n",
              "    background-color: var(--hover-bg-color);\n",
              "    box-shadow: 0 1px 2px rgba(60, 64, 67, 0.3), 0 1px 3px 1px rgba(60, 64, 67, 0.15);\n",
              "    fill: var(--button-hover-fill-color);\n",
              "  }\n",
              "\n",
              "  .colab-df-quickchart-complete:disabled,\n",
              "  .colab-df-quickchart-complete:disabled:hover {\n",
              "    background-color: var(--disabled-bg-color);\n",
              "    fill: var(--disabled-fill-color);\n",
              "    box-shadow: none;\n",
              "  }\n",
              "\n",
              "  .colab-df-spinner {\n",
              "    border: 2px solid var(--fill-color);\n",
              "    border-color: transparent;\n",
              "    border-bottom-color: var(--fill-color);\n",
              "    animation:\n",
              "      spin 1s steps(1) infinite;\n",
              "  }\n",
              "\n",
              "  @keyframes spin {\n",
              "    0% {\n",
              "      border-color: transparent;\n",
              "      border-bottom-color: var(--fill-color);\n",
              "      border-left-color: var(--fill-color);\n",
              "    }\n",
              "    20% {\n",
              "      border-color: transparent;\n",
              "      border-left-color: var(--fill-color);\n",
              "      border-top-color: var(--fill-color);\n",
              "    }\n",
              "    30% {\n",
              "      border-color: transparent;\n",
              "      border-left-color: var(--fill-color);\n",
              "      border-top-color: var(--fill-color);\n",
              "      border-right-color: var(--fill-color);\n",
              "    }\n",
              "    40% {\n",
              "      border-color: transparent;\n",
              "      border-right-color: var(--fill-color);\n",
              "      border-top-color: var(--fill-color);\n",
              "    }\n",
              "    60% {\n",
              "      border-color: transparent;\n",
              "      border-right-color: var(--fill-color);\n",
              "    }\n",
              "    80% {\n",
              "      border-color: transparent;\n",
              "      border-right-color: var(--fill-color);\n",
              "      border-bottom-color: var(--fill-color);\n",
              "    }\n",
              "    90% {\n",
              "      border-color: transparent;\n",
              "      border-bottom-color: var(--fill-color);\n",
              "    }\n",
              "  }\n",
              "</style>\n",
              "\n",
              "  <script>\n",
              "    async function quickchart(key) {\n",
              "      const quickchartButtonEl =\n",
              "        document.querySelector('#' + key + ' button');\n",
              "      quickchartButtonEl.disabled = true;  // To prevent multiple clicks.\n",
              "      quickchartButtonEl.classList.add('colab-df-spinner');\n",
              "      try {\n",
              "        const charts = await google.colab.kernel.invokeFunction(\n",
              "            'suggestCharts', [key], {});\n",
              "      } catch (error) {\n",
              "        console.error('Error during call to suggestCharts:', error);\n",
              "      }\n",
              "      quickchartButtonEl.classList.remove('colab-df-spinner');\n",
              "      quickchartButtonEl.classList.add('colab-df-quickchart-complete');\n",
              "    }\n",
              "    (() => {\n",
              "      let quickchartButtonEl =\n",
              "        document.querySelector('#df-e1e0e11c-6163-4f25-9cc0-f0a8d48f57ac button');\n",
              "      quickchartButtonEl.style.display =\n",
              "        google.colab.kernel.accessAllowed ? 'block' : 'none';\n",
              "    })();\n",
              "  </script>\n",
              "</div>\n",
              "\n",
              "    </div>\n",
              "  </div>\n"
            ],
            "application/vnd.google.colaboratory.intrinsic+json": {
              "type": "dataframe",
              "summary": "{\n  \"name\": \"dfBalanceSheets[:5]\",\n  \"rows\": 5,\n  \"fields\": [\n    {\n      \"column\": \"pdf_text\",\n      \"properties\": {\n        \"dtype\": \"string\",\n        \"num_unique_values\": 5,\n        \"samples\": [\n          \"consolidated standalone particular mar18 mar17 mar18 mar17 asset noncurrent asset property plant equipment capital workinprogress goodwill intangible asset intangible asset development financial asset investment loan financial asset deferred tax asset net income tax asset net noncurrent asset total noncurrent asset current asset inventory financial asset investment trade receivables cash cash equivalent bank balance loan financial asset current asset total current asset total asset equity liability equity equity share capital equity equity attributable shareholder company noncontrolling interest total equity noncurrent liability financial liability borrowing financial liability provision deferred tax liability net income tax liability net noncurrent liability total noncurrent liability current liability financial liability borrowing trade payable financial liability income tax liability net provision current liability total current liability total liability total equity liability\",\n          \"standalone consolidated particular equity liability shareholder fund share capital reseives surplus subtotal \\u2022shareholders fund minority interest non current liability longterm borrowing deferred tax liability net long term liability longterm provision subtotal noncurrent liability current liability short term borrowing trade payable current liability short term provision subtotal current liability total equity liability asset noncurrent asset property plant equipment intangible asset goodwill consolidation non current investment deferred tax asset net long term loan advance non current asset subtotal noncurrent asset loan non current current subtotal loan current asset current investment trade receivables cash bank balance short term loan advance current asset subtotal current asset total asset\",\n          \"standalone consolidated audited audited particular equity liability shareholder fund share capital reserve surplus money received share warrant subtotal shareholder fund share application money pending allotment minority interest noncurrent liability longterm borrowing deferred tax liability net longterm liability longterm provision subtotal noncurrent liability current liability shortterm borrowing trade payable current maturity longterm borrowing current liability shortterm provision subtotal current liability total equity liability asset noncurrent asset fixed asset goodwill consolidation noncurrent investment deferred tax asset net receivable financing activity longterm loan advance trade receivables noncurrent asset subtotal noncurrent asset current asset current investment inventory trade receivables cash cash equivalent receivable financing activity shortterm loan advance current asset subtotal current asset total asset\"\n        ],\n        \"semantic_type\": \"\",\n        \"description\": \"\"\n      }\n    },\n    {\n      \"column\": \"label\",\n      \"properties\": {\n        \"dtype\": \"category\",\n        \"num_unique_values\": 1,\n        \"samples\": [\n          \"Balance Sheets\"\n        ],\n        \"semantic_type\": \"\",\n        \"description\": \"\"\n      }\n    },\n    {\n      \"column\": \"Identifiers\",\n      \"properties\": {\n        \"dtype\": \"category\",\n        \"num_unique_values\": 1,\n        \"samples\": [\n          \"equity,financial,current,liability,asset\"\n        ],\n        \"semantic_type\": \"\",\n        \"description\": \"\"\n      }\n    }\n  ]\n}"
            }
          },
          "metadata": {},
          "execution_count": 21
        }
      ]
    },
    {
      "cell_type": "markdown",
      "source": [
        "##Performing Same task on other categories"
      ],
      "metadata": {
        "id": "hFSqKp31UuCJ"
      }
    },
    {
      "cell_type": "code",
      "source": [
        "dfCashFlows = Newdataset[Newdataset['label'] == 'Cash Flow'][['pdf_text']]\n",
        "dfCashFlows['label'] = 'Cash Flow'\n",
        "\n",
        "import re\n",
        "import string\n",
        "from nltk.corpus import stopwords\n",
        "from nltk.stem import WordNetLemmatizer\n",
        "\n",
        "# Function to remove specific patterns\n",
        "def remove_patterns(text):\n",
        "    # Defining patterns to remove\n",
        "    patterns_to_remove = [r'\\b\\d+(?:st|nd|rd|th)\\b', r'\\bbj\\b', r'\\bivj\\b']\n",
        "\n",
        "    # Replace patterns with empty string\n",
        "    for pattern in patterns_to_remove:\n",
        "        text = re.sub(pattern, '', text)\n",
        "    return text\n",
        "\n",
        "def remove_roman(text):\n",
        "    # Define pattern for Roman numerals (case-insensitive)\n",
        "    roman_pattern = r'\\b(?:i{1,3}|iv|v|vi{0,3}|ix|x{1,3}|xl|l|lx{0,3}|xc|c{1,3}|cd|d|dc{0,3}|cm|m{1,3})\\b'\n",
        "    # Replace Roman numerals with empty string\n",
        "    return re.sub(roman_pattern, '', text, flags=re.IGNORECASE)\n",
        "\n",
        "# Pre-processing the extracted textual data\n",
        "stop = stopwords.words('english')\n",
        "stemmer = WordNetLemmatizer()\n",
        "\n",
        "for index, row in dfCashFlows.iterrows():\n",
        "    text = row['pdf_text']\n",
        "    # Lower case conversion\n",
        "    text = \" \".join(text.lower() for text in text.split())\n",
        "    # Getting rid of special characters\n",
        "    text = text.translate(str.maketrans('', '', string.punctuation))\n",
        "    # Removing specific patterns\n",
        "    text = remove_patterns(text)\n",
        "    # Removing standalone numeric values\n",
        "    text = re.sub(r'\\b\\d+\\b', '', text)\n",
        "    # Removing Roman numerals\n",
        "    text = remove_roman(text)\n",
        "    # Removing stop words\n",
        "    text = \" \".join(word for word in text.split() if word not in stop)\n",
        "    # Removing single letters\n",
        "    text = \" \".join(word for word in text.split() if len(word) > 1)\n",
        "    # Converting words to their dictionary form\n",
        "    text = \" \".join(stemmer.lemmatize(word) for word in text.split())\n",
        "    # Update the 'pdf_text' column with preprocessed text\n",
        "    dfCashFlows.at[index, 'pdf_text'] = text\n"
      ],
      "metadata": {
        "id": "bbq7JsWnSRph"
      },
      "execution_count": 22,
      "outputs": []
    },
    {
      "cell_type": "code",
      "source": [
        "dataset[dataset['label']=='Cash Flow']['pdf_text'].iloc[1]"
      ],
      "metadata": {
        "colab": {
          "base_uri": "https://localhost:8080/",
          "height": 127
        },
        "id": "PEVi1GEYTWiv",
        "outputId": "70599475-a60d-4fb4-b762-05f7b1e0dbae"
      },
      "execution_count": 23,
      "outputs": [
        {
          "output_type": "execute_result",
          "data": {
            "text/plain": [
              "'Cash flows from operating activities\\nNet income\\n$839,534\\n$1,262,453\\n$1,360,471\\nAdjustments to reconcile net income to net cash provided by\\noperating activities\\nDepreciation and amortization\\n67,155\\n124,638\\n225,153\\nDeferred income taxes\\n(34,528)\\n5,199\\n(10,518)\\n(Gain) loss on sale of\\nproperty and equipment\\n(21,985)\\n880\\n(228)\\nStock based compensation\\nexpense, net\\n949\\n-\\n-\\nExcess tax benefit related to\\nstock options exercise\\n(6,859)\\n(3,584)\\n(1,002)\\nGain on sale of investment\\nsecurities\\n(3,722)\\n(5,861)\\n(23,884)\\nEquity in earnings of\\naffiliates\\n(920)\\n(436)\\n(2,288)\\nProvision for doubtful\\naccounts, net\\n13,751\\n1,354\\n12,345\\nOthers, net\\n771\\n19,394\\n15,664\\nChanges in assets and liabilities, net of effects of\\nacquisitions\\nAccounts receivable and\\nunbilled revenue\\n(166,446)\\n(33,204)\\n(179,117)\\nOther assets\\n(82,219)\\n8,886\\n19,247\\nAccounts payable\\n(1,495)\\n9,250\\n36,707\\nAccrued employee costs\\n(7,333)\\n55,726\\n9,107\\nOther liabilities\\n35,854\\n(37,079)\\n(116,526)\\nNet cash provided by operating\\nactivities\\n632,507\\n1,407,616\\n1,345,131\\nCash flows from investing activities\\nInvestment in term deposit\\nwith banks\\n(701,385)\\n(1,160,739) (361,321)\\nProceeds from term deposit\\nwith banks on maturity\\n682,491\\n1,292,722\\n1,198,710\\nInvestment in term deposits\\nwith corporation\\n(303,484)\\n(373,147)\\n(564,780)\\nProceeds from term deposits\\nwith corporation on maturity\\n183,776\\n296,396\\n387,487\\nPurchase of property and\\nequipment and intangibles\\n(139,438)\\n(584,287)\\n(832,776)\\nProceeds from sale of property\\nand equipment\\n29,121\\n16,793\\n4,265\\nPurchase of investment\\nsecurities\\n(1,037,890) (1,664,560) (3,104,514)\\nProceeds from sale of\\ninvestment securities\\n1,076,087\\n1,601,667\\n2,901,091\\nPurchase of other investment\\n-\\n(1,783)\\n(452)\\nAcquisition of business, net\\nof cash acquired\\n(177,845)\\n(72,055)\\n(16,922)\\nNet cash in deconsolidated\\nsubsidiaries\\n-\\n-\\n(22,375)\\nInvestment in equity method\\ninvestee\\n(2,957)\\n(3,144)\\n(240)\\nNet cash used in investing\\nactivities\\n(391,524)\\n(652,137)\\n(411,827)\\n'"
            ],
            "application/vnd.google.colaboratory.intrinsic+json": {
              "type": "string"
            }
          },
          "metadata": {},
          "execution_count": 23
        }
      ]
    },
    {
      "cell_type": "code",
      "source": [
        "# Plotting 5 most occuring words in the 'Cash Flow' documents\n",
        "\n",
        "CashFlowfreq = pd.Series(' '.join(dfCashFlows['pdf_text']).split()).value_counts()[:5]\n",
        "CashFlowfreq.plot(kind='barh');\n",
        "plt.show()"
      ],
      "metadata": {
        "colab": {
          "base_uri": "https://localhost:8080/",
          "height": 430
        },
        "id": "eXfXv2f3S8SA",
        "outputId": "2fa717de-6101-489c-825d-808838815395"
      },
      "execution_count": 24,
      "outputs": [
        {
          "output_type": "display_data",
          "data": {
            "text/plain": [
              "<Figure size 640x480 with 1 Axes>"
            ],
            "image/png": "[encoded data removed]"
          },
          "metadata": {}
        }
      ]
    },
    {
      "cell_type": "code",
      "source": [
        "dfCashFlows['Identifiers'] = 'equivalent,flow,activity,net,cash'\n",
        "dfCashFlows[:5]"
      ],
      "metadata": {
        "colab": {
          "base_uri": "https://localhost:8080/",
          "height": 206
        },
        "id": "c9IrIvlGUVXH",
        "outputId": "f8d716d0-aea5-48d0-d078-4a0723e02bc1"
      },
      "execution_count": 25,
      "outputs": [
        {
          "output_type": "execute_result",
          "data": {
            "text/plain": [
              "                                              pdf_text      label  \\\n",
              "271  particular quarter ended year ended mar18 mar1...  Cash Flow   \n",
              "272  cash flow operating activity net income adjust...  Cash Flow   \n",
              "273  cash flow financing activity decrease increase...  Cash Flow   \n",
              "274  deposit bank maturity le three march march mon...  Cash Flow   \n",
              "275  particular year ended december fo year decem c...  Cash Flow   \n",
              "\n",
              "                           Identifiers  \n",
              "271  equivalent,flow,activity,net,cash  \n",
              "272  equivalent,flow,activity,net,cash  \n",
              "273  equivalent,flow,activity,net,cash  \n",
              "274  equivalent,flow,activity,net,cash  \n",
              "275  equivalent,flow,activity,net,cash  "
            ],
            "text/html": [
              "\n",
              "  <div id=\"df-f4a2c495-ffd8-4052-89a7-efc5be0d2161\" class=\"colab-df-container\">\n",
              "    <div>\n",
              "<style scoped>\n",
              "    .dataframe tbody tr th:only-of-type {\n",
              "        vertical-align: middle;\n",
              "    }\n",
              "\n",
              "    .dataframe tbody tr th {\n",
              "        vertical-align: top;\n",
              "    }\n",
              "\n",
              "    .dataframe thead th {\n",
              "        text-align: right;\n",
              "    }\n",
              "</style>\n",
              "<table border=\"1\" class=\"dataframe\">\n",
              "  <thead>\n",
              "    <tr style=\"text-align: right;\">\n",
              "      <th></th>\n",
              "      <th>pdf_text</th>\n",
              "      <th>label</th>\n",
              "      <th>Identifiers</th>\n",
              "    </tr>\n",
              "  </thead>\n",
              "  <tbody>\n",
              "    <tr>\n",
              "      <th>271</th>\n",
              "      <td>particular quarter ended year ended mar18 mar1...</td>\n",
              "      <td>Cash Flow</td>\n",
              "      <td>equivalent,flow,activity,net,cash</td>\n",
              "    </tr>\n",
              "    <tr>\n",
              "      <th>272</th>\n",
              "      <td>cash flow operating activity net income adjust...</td>\n",
              "      <td>Cash Flow</td>\n",
              "      <td>equivalent,flow,activity,net,cash</td>\n",
              "    </tr>\n",
              "    <tr>\n",
              "      <th>273</th>\n",
              "      <td>cash flow financing activity decrease increase...</td>\n",
              "      <td>Cash Flow</td>\n",
              "      <td>equivalent,flow,activity,net,cash</td>\n",
              "    </tr>\n",
              "    <tr>\n",
              "      <th>274</th>\n",
              "      <td>deposit bank maturity le three march march mon...</td>\n",
              "      <td>Cash Flow</td>\n",
              "      <td>equivalent,flow,activity,net,cash</td>\n",
              "    </tr>\n",
              "    <tr>\n",
              "      <th>275</th>\n",
              "      <td>particular year ended december fo year decem c...</td>\n",
              "      <td>Cash Flow</td>\n",
              "      <td>equivalent,flow,activity,net,cash</td>\n",
              "    </tr>\n",
              "  </tbody>\n",
              "</table>\n",
              "</div>\n",
              "    <div class=\"colab-df-buttons\">\n",
              "\n",
              "  <div class=\"colab-df-container\">\n",
              "    <button class=\"colab-df-convert\" onclick=\"convertToInteractive('df-f4a2c495-ffd8-4052-89a7-efc5be0d2161')\"\n",
              "            title=\"Convert this dataframe to an interactive table.\"\n",
              "            style=\"display:none;\">\n",
              "\n",
              "  <svg xmlns=\"http://www.w3.org/2000/svg\" height=\"24px\" viewBox=\"0 -960 960 960\">\n",
              "    <path d=\"M120-120v-720h720v720H120Zm60-500h600v-160H180v160Zm220 220h160v-160H400v160Zm0 220h160v-160H400v160ZM180-400h160v-160H180v160Zm440 0h160v-160H620v160ZM180-180h160v-160H180v160Zm440 0h160v-160H620v160Z\"/>\n",
              "  </svg>\n",
              "    </button>\n",
              "\n",
              "  <style>\n",
              "    .colab-df-container {\n",
              "      display:flex;\n",
              "      gap: 12px;\n",
              "    }\n",
              "\n",
              "    .colab-df-convert {\n",
              "      background-color: #E8F0FE;\n",
              "      border: none;\n",
              "      border-radius: 50%;\n",
              "      cursor: pointer;\n",
              "      display: none;\n",
              "      fill: #1967D2;\n",
              "      height: 32px;\n",
              "      padding: 0 0 0 0;\n",
              "      width: 32px;\n",
              "    }\n",
              "\n",
              "    .colab-df-convert:hover {\n",
              "      background-color: #E2EBFA;\n",
              "      box-shadow: 0px 1px 2px rgba(60, 64, 67, 0.3), 0px 1px 3px 1px rgba(60, 64, 67, 0.15);\n",
              "      fill: #174EA6;\n",
              "    }\n",
              "\n",
              "    .colab-df-buttons div {\n",
              "      margin-bottom: 4px;\n",
              "    }\n",
              "\n",
              "    [theme=dark] .colab-df-convert {\n",
              "      background-color: #3B4455;\n",
              "      fill: #D2E3FC;\n",
              "    }\n",
              "\n",
              "    [theme=dark] .colab-df-convert:hover {\n",
              "      background-color: #434B5C;\n",
              "      box-shadow: 0px 1px 3px 1px rgba(0, 0, 0, 0.15);\n",
              "      filter: drop-shadow(0px 1px 2px rgba(0, 0, 0, 0.3));\n",
              "      fill: #FFFFFF;\n",
              "    }\n",
              "  </style>\n",
              "\n",
              "    <script>\n",
              "      const buttonEl =\n",
              "        document.querySelector('#df-f4a2c495-ffd8-4052-89a7-efc5be0d2161 button.colab-df-convert');\n",
              "      buttonEl.style.display =\n",
              "        google.colab.kernel.accessAllowed ? 'block' : 'none';\n",
              "\n",
              "      async function convertToInteractive(key) {\n",
              "        const element = document.querySelector('#df-f4a2c495-ffd8-4052-89a7-efc5be0d2161');\n",
              "        const dataTable =\n",
              "          await google.colab.kernel.invokeFunction('convertToInteractive',\n",
              "                                                    [key], {});\n",
              "        if (!dataTable) return;\n",
              "\n",
              "        const docLinkHtml = 'Like what you see? Visit the ' +\n",
              "          '<a target=\"_blank\" href=https://colab.research.google.com/notebooks/data_table.ipynb>data table notebook</a>'\n",
              "          + ' to learn more about interactive tables.';\n",
              "        element.innerHTML = '';\n",
              "        dataTable['output_type'] = 'display_data';\n",
              "        await google.colab.output.renderOutput(dataTable, element);\n",
              "        const docLink = document.createElement('div');\n",
              "        docLink.innerHTML = docLinkHtml;\n",
              "        element.appendChild(docLink);\n",
              "      }\n",
              "    </script>\n",
              "  </div>\n",
              "\n",
              "\n",
              "<div id=\"df-ed4e3fa4-0295-4a73-8a66-71b2e2ea1810\">\n",
              "  <button class=\"colab-df-quickchart\" onclick=\"quickchart('df-ed4e3fa4-0295-4a73-8a66-71b2e2ea1810')\"\n",
              "            title=\"Suggest charts\"\n",
              "            style=\"display:none;\">\n",
              "\n",
              "<svg xmlns=\"http://www.w3.org/2000/svg\" height=\"24px\"viewBox=\"0 0 24 24\"\n",
              "     width=\"24px\">\n",
              "    <g>\n",
              "        <path d=\"M19 3H5c-1.1 0-2 .9-2 2v14c0 1.1.9 2 2 2h14c1.1 0 2-.9 2-2V5c0-1.1-.9-2-2-2zM9 17H7v-7h2v7zm4 0h-2V7h2v10zm4 0h-2v-4h2v4z\"/>\n",
              "    </g>\n",
              "</svg>\n",
              "  </button>\n",
              "\n",
              "<style>\n",
              "  .colab-df-quickchart {\n",
              "      --bg-color: #E8F0FE;\n",
              "      --fill-color: #1967D2;\n",
              "      --hover-bg-color: #E2EBFA;\n",
              "      --hover-fill-color: #174EA6;\n",
              "      --disabled-fill-color: #AAA;\n",
              "      --disabled-bg-color: #DDD;\n",
              "  }\n",
              "\n",
              "  [theme=dark] .colab-df-quickchart {\n",
              "      --bg-color: #3B4455;\n",
              "      --fill-color: #D2E3FC;\n",
              "      --hover-bg-color: #434B5C;\n",
              "      --hover-fill-color: #FFFFFF;\n",
              "      --disabled-bg-color: #3B4455;\n",
              "      --disabled-fill-color: #666;\n",
              "  }\n",
              "\n",
              "  .colab-df-quickchart {\n",
              "    background-color: var(--bg-color);\n",
              "    border: none;\n",
              "    border-radius: 50%;\n",
              "    cursor: pointer;\n",
              "    display: none;\n",
              "    fill: var(--fill-color);\n",
              "    height: 32px;\n",
              "    padding: 0;\n",
              "    width: 32px;\n",
              "  }\n",
              "\n",
              "  .colab-df-quickchart:hover {\n",
              "    background-color: var(--hover-bg-color);\n",
              "    box-shadow: 0 1px 2px rgba(60, 64, 67, 0.3), 0 1px 3px 1px rgba(60, 64, 67, 0.15);\n",
              "    fill: var(--button-hover-fill-color);\n",
              "  }\n",
              "\n",
              "  .colab-df-quickchart-complete:disabled,\n",
              "  .colab-df-quickchart-complete:disabled:hover {\n",
              "    background-color: var(--disabled-bg-color);\n",
              "    fill: var(--disabled-fill-color);\n",
              "    box-shadow: none;\n",
              "  }\n",
              "\n",
              "  .colab-df-spinner {\n",
              "    border: 2px solid var(--fill-color);\n",
              "    border-color: transparent;\n",
              "    border-bottom-color: var(--fill-color);\n",
              "    animation:\n",
              "      spin 1s steps(1) infinite;\n",
              "  }\n",
              "\n",
              "  @keyframes spin {\n",
              "    0% {\n",
              "      border-color: transparent;\n",
              "      border-bottom-color: var(--fill-color);\n",
              "      border-left-color: var(--fill-color);\n",
              "    }\n",
              "    20% {\n",
              "      border-color: transparent;\n",
              "      border-left-color: var(--fill-color);\n",
              "      border-top-color: var(--fill-color);\n",
              "    }\n",
              "    30% {\n",
              "      border-color: transparent;\n",
              "      border-left-color: var(--fill-color);\n",
              "      border-top-color: var(--fill-color);\n",
              "      border-right-color: var(--fill-color);\n",
              "    }\n",
              "    40% {\n",
              "      border-color: transparent;\n",
              "      border-right-color: var(--fill-color);\n",
              "      border-top-color: var(--fill-color);\n",
              "    }\n",
              "    60% {\n",
              "      border-color: transparent;\n",
              "      border-right-color: var(--fill-color);\n",
              "    }\n",
              "    80% {\n",
              "      border-color: transparent;\n",
              "      border-right-color: var(--fill-color);\n",
              "      border-bottom-color: var(--fill-color);\n",
              "    }\n",
              "    90% {\n",
              "      border-color: transparent;\n",
              "      border-bottom-color: var(--fill-color);\n",
              "    }\n",
              "  }\n",
              "</style>\n",
              "\n",
              "  <script>\n",
              "    async function quickchart(key) {\n",
              "      const quickchartButtonEl =\n",
              "        document.querySelector('#' + key + ' button');\n",
              "      quickchartButtonEl.disabled = true;  // To prevent multiple clicks.\n",
              "      quickchartButtonEl.classList.add('colab-df-spinner');\n",
              "      try {\n",
              "        const charts = await google.colab.kernel.invokeFunction(\n",
              "            'suggestCharts', [key], {});\n",
              "      } catch (error) {\n",
              "        console.error('Error during call to suggestCharts:', error);\n",
              "      }\n",
              "      quickchartButtonEl.classList.remove('colab-df-spinner');\n",
              "      quickchartButtonEl.classList.add('colab-df-quickchart-complete');\n",
              "    }\n",
              "    (() => {\n",
              "      let quickchartButtonEl =\n",
              "        document.querySelector('#df-ed4e3fa4-0295-4a73-8a66-71b2e2ea1810 button');\n",
              "      quickchartButtonEl.style.display =\n",
              "        google.colab.kernel.accessAllowed ? 'block' : 'none';\n",
              "    })();\n",
              "  </script>\n",
              "</div>\n",
              "\n",
              "    </div>\n",
              "  </div>\n"
            ],
            "application/vnd.google.colaboratory.intrinsic+json": {
              "type": "dataframe",
              "summary": "{\n  \"name\": \"dfCashFlows[:5]\",\n  \"rows\": 5,\n  \"fields\": [\n    {\n      \"column\": \"pdf_text\",\n      \"properties\": {\n        \"dtype\": \"string\",\n        \"num_unique_values\": 5,\n        \"samples\": [\n          \"cash flow operating activity net income adjustment reconcile net income net cash provided operating activity depreciation amortization deferred income tax gain loss sale property equipment stock based compensation expense net excess tax benefit related stock option exercise gain sale investment security equity earnings affiliate provision doubtful account net others net change asset liability net effect acquisition account receivable unbilled revenue asset account payable accrued employee cost liability net cash provided operating activity cash flow investing activity investment term deposit bank proceeds term deposit bank maturity investment term deposit corporation proceeds term deposit corporation maturity purchase property equipment intangible proceeds sale property equipment purchase investment security proceeds sale investment security purchase investment acquisition business net cash acquired net cash deconsolidated subsidiary investment equity method investee net cash used investing activity\",\n          \"particular year ended december fo year decem cash flow operating activity net profit tax adjustment depreciation amortization expense employee stock option compensation cost interest income provision doubtful account net write back debt advance written dividend investment profit sale property plant equipment net exchange rate difference net unrealised interest expense share profit associate operating profit working capital change adjustment trade receivables asset trade payable liability cash generated operation direct tax paid net net cash operating activity cash flow investing activity purchase property plant equipment proceeds sale property plant equipment purchase investment proceeds sale redemption investment investment associate dividend investment interest received net cash used investing activity cash flow financing activity proceeds issue share share application money net buyback share including expense incurred buyback interest paid dividend paid including corporate dividend tax net cash used financing activity net increase decrease cash cash equivalent cash cash equivalent beginning year add unrealised loss gain foreign currency cash cash equivalent cash cash equivalent end year refer note 13a accompanying note form integral part consolidated financial statement per report even date price waterhouse chartered accountant llp behalf board director firm registration 012754nn500016 chartered accountant sumit seth atul nishar srikrishna jimmy mahtani dilee choks partner chairman ceo executive director vice chairman dire membership number bharat shah chandrasekar meera shankar basab pradh director director director dire place mumbai christian oecking rajesh kanani gunjan methi dated february director chief financial officer company secret\",\n          \"cash flow financing activity decrease increase principal capital lease obligation net proceeds short term borrowing repayment short term borrowing proceeds long term debt repayment long term debt buyback equity share including transaction cost payment deferred consideration business acquisition proceeds issuance equity share proceeds subscription share pending allotment dividend paid excess tax benefit related stock option exercise net cash used financing activity effect exchange rate change cash cash equivalent net increase decrease cash cash equivalent cash cash equivalent beginning year cash cash equivalent end year supplemental disclosure cash flow share issued consideration cash acquisition business geometric limited property equipment acquired capital lease obligation cash payment interest expense cash payment income tax\"\n        ],\n        \"semantic_type\": \"\",\n        \"description\": \"\"\n      }\n    },\n    {\n      \"column\": \"label\",\n      \"properties\": {\n        \"dtype\": \"category\",\n        \"num_unique_values\": 1,\n        \"samples\": [\n          \"Cash Flow\"\n        ],\n        \"semantic_type\": \"\",\n        \"description\": \"\"\n      }\n    },\n    {\n      \"column\": \"Identifiers\",\n      \"properties\": {\n        \"dtype\": \"category\",\n        \"num_unique_values\": 1,\n        \"samples\": [\n          \"equivalent,flow,activity,net,cash\"\n        ],\n        \"semantic_type\": \"\",\n        \"description\": \"\"\n      }\n    }\n  ]\n}"
            }
          },
          "metadata": {},
          "execution_count": 25
        }
      ]
    },
    {
      "cell_type": "code",
      "source": [
        "dfCashFlows.iloc[2]['pdf_text']"
      ],
      "metadata": {
        "colab": {
          "base_uri": "https://localhost:8080/",
          "height": 108
        },
        "id": "NBAPlKx5VIrK",
        "outputId": "703ebc6f-5b92-40a9-a61c-824a7f90e0b3"
      },
      "execution_count": 26,
      "outputs": [
        {
          "output_type": "execute_result",
          "data": {
            "text/plain": [
              "'cash flow financing activity decrease increase principal capital lease obligation net proceeds short term borrowing repayment short term borrowing proceeds long term debt repayment long term debt buyback equity share including transaction cost payment deferred consideration business acquisition proceeds issuance equity share proceeds subscription share pending allotment dividend paid excess tax benefit related stock option exercise net cash used financing activity effect exchange rate change cash cash equivalent net increase decrease cash cash equivalent cash cash equivalent beginning year cash cash equivalent end year supplemental disclosure cash flow share issued consideration cash acquisition business geometric limited property equipment acquired capital lease obligation cash payment interest expense cash payment income tax'"
            ],
            "application/vnd.google.colaboratory.intrinsic+json": {
              "type": "string"
            }
          },
          "metadata": {},
          "execution_count": 26
        }
      ]
    },
    {
      "cell_type": "code",
      "source": [
        "dfIncomeStatement = Newdataset[Newdataset['label'] == 'Income Statement'][['pdf_text']]\n",
        "dfIncomeStatement['label'] = 'Income Statment'\n",
        "\n",
        "import re\n",
        "import string\n",
        "from nltk.corpus import stopwords\n",
        "from nltk.stem import WordNetLemmatizer\n",
        "\n",
        "# Function to remove specific patterns\n",
        "def remove_patterns(text):\n",
        "    # Defining patterns to remove\n",
        "    patterns_to_remove = [r'\\b\\d+(?:st|nd|rd|th)\\b', r'\\bbj\\b', r'\\bivj\\b']\n",
        "\n",
        "    # Replace patterns with empty string\n",
        "    for pattern in patterns_to_remove:\n",
        "        text = re.sub(pattern, '', text)\n",
        "    return text\n",
        "\n",
        "def remove_roman(text):\n",
        "    # Define pattern for Roman numerals (case-insensitive)\n",
        "    roman_pattern = r'\\b(?:i{1,3}|iv|v|vi{0,3}|ix|x{1,3}|xl|l|lx{0,3}|xc|c{1,3}|cd|d|dc{0,3}|cm|m{1,3})\\b'\n",
        "    # Replace Roman numerals with empty string\n",
        "    return re.sub(roman_pattern, '', text, flags=re.IGNORECASE)\n",
        "\n",
        "# Pre-processing the extracted textual data\n",
        "stop = stopwords.words('english')\n",
        "stemmer = WordNetLemmatizer()\n",
        "\n",
        "for index, row in dfIncomeStatement.iterrows():\n",
        "    text = row['pdf_text']\n",
        "    # Lower case conversion\n",
        "    text = \" \".join(text.lower() for text in text.split())\n",
        "    # Getting rid of special characters\n",
        "    text = text.translate(str.maketrans('', '', string.punctuation))\n",
        "    # Removing specific patterns\n",
        "    text = remove_patterns(text)\n",
        "    # Removing standalone numeric values\n",
        "    text = re.sub(r'\\b\\d+\\b', '', text)\n",
        "    # Removing Roman numerals\n",
        "    text = remove_roman(text)\n",
        "    # Removing stop words\n",
        "    text = \" \".join(word for word in text.split() if word not in stop)\n",
        "    # Removing single letters\n",
        "    text = \" \".join(word for word in text.split() if len(word) > 1)\n",
        "    # Converting words to their dictionary form\n",
        "    text = \" \".join(stemmer.lemmatize(word) for word in text.split())\n",
        "    # Update the 'pdf_text' column with preprocessed text\n",
        "    dfIncomeStatement.at[index, 'pdf_text'] = text\n"
      ],
      "metadata": {
        "id": "jNaFBr4uVQGq"
      },
      "execution_count": 27,
      "outputs": []
    },
    {
      "cell_type": "code",
      "source": [
        "# Plotting 5 most occuring words in the 'BalanceSheets' documents\n",
        "IncomeStatementfreq = pd.Series(' '.join(dfIncomeStatement['pdf_text']).split()).value_counts()[:5]\n",
        "IncomeStatementfreq.plot(kind='barh');\n",
        "plt.show()"
      ],
      "metadata": {
        "colab": {
          "base_uri": "https://localhost:8080/",
          "height": 430
        },
        "id": "q24woEQ2fyYL",
        "outputId": "7e04816a-b42c-484b-d37c-188f99636e78"
      },
      "execution_count": 28,
      "outputs": [
        {
          "output_type": "display_data",
          "data": {
            "text/plain": [
              "<Figure size 640x480 with 1 Axes>"
            ],
            "image/png": "[encoded data removed]"
          },
          "metadata": {}
        }
      ]
    },
    {
      "cell_type": "code",
      "source": [
        "dataset['label'].unique()"
      ],
      "metadata": {
        "colab": {
          "base_uri": "https://localhost:8080/"
        },
        "id": "WPR64_UDf8DE",
        "outputId": "b71f9968-075d-4223-b714-7d32a94fb99d"
      },
      "execution_count": 29,
      "outputs": [
        {
          "output_type": "execute_result",
          "data": {
            "text/plain": [
              "array(['Balance Sheets', 'Cash Flow', 'Income Statement', 'Notes',\n",
              "       'Others'], dtype=object)"
            ]
          },
          "metadata": {},
          "execution_count": 29
        }
      ]
    },
    {
      "cell_type": "code",
      "source": [
        "dfIncomeStatement['Identifiers'] = 'total,profit,expense,income,tax'\n",
        "dfIncomeStatement[:5]"
      ],
      "metadata": {
        "colab": {
          "base_uri": "https://localhost:8080/",
          "height": 206
        },
        "id": "bCnuuQ7Sge_A",
        "outputId": "846dc972-98ec-4097-fb16-fe5f322965ef"
      },
      "execution_count": 30,
      "outputs": [
        {
          "output_type": "execute_result",
          "data": {
            "text/plain": [
              "                                              pdf_text            label  \\\n",
              "308  corresponding year date year date preceding mo...  Income Statment   \n",
              "309  particular quarter ended year ended year ende ...  Income Statment   \n",
              "310  consolidated particular year ended year ended ...  Income Statment   \n",
              "311  standalone quarter ended year ended sr particu...  Income Statment   \n",
              "312  sr consolidated particular quarter ended year ...  Income Statment   \n",
              "\n",
              "                         Identifiers  \n",
              "308  total,profit,expense,income,tax  \n",
              "309  total,profit,expense,income,tax  \n",
              "310  total,profit,expense,income,tax  \n",
              "311  total,profit,expense,income,tax  \n",
              "312  total,profit,expense,income,tax  "
            ],
            "text/html": [
              "\n",
              "  <div id=\"df-a4132167-21ab-49d6-95b1-3b850b370d2a\" class=\"colab-df-container\">\n",
              "    <div>\n",
              "<style scoped>\n",
              "    .dataframe tbody tr th:only-of-type {\n",
              "        vertical-align: middle;\n",
              "    }\n",
              "\n",
              "    .dataframe tbody tr th {\n",
              "        vertical-align: top;\n",
              "    }\n",
              "\n",
              "    .dataframe thead th {\n",
              "        text-align: right;\n",
              "    }\n",
              "</style>\n",
              "<table border=\"1\" class=\"dataframe\">\n",
              "  <thead>\n",
              "    <tr style=\"text-align: right;\">\n",
              "      <th></th>\n",
              "      <th>pdf_text</th>\n",
              "      <th>label</th>\n",
              "      <th>Identifiers</th>\n",
              "    </tr>\n",
              "  </thead>\n",
              "  <tbody>\n",
              "    <tr>\n",
              "      <th>308</th>\n",
              "      <td>corresponding year date year date preceding mo...</td>\n",
              "      <td>Income Statment</td>\n",
              "      <td>total,profit,expense,income,tax</td>\n",
              "    </tr>\n",
              "    <tr>\n",
              "      <th>309</th>\n",
              "      <td>particular quarter ended year ended year ende ...</td>\n",
              "      <td>Income Statment</td>\n",
              "      <td>total,profit,expense,income,tax</td>\n",
              "    </tr>\n",
              "    <tr>\n",
              "      <th>310</th>\n",
              "      <td>consolidated particular year ended year ended ...</td>\n",
              "      <td>Income Statment</td>\n",
              "      <td>total,profit,expense,income,tax</td>\n",
              "    </tr>\n",
              "    <tr>\n",
              "      <th>311</th>\n",
              "      <td>standalone quarter ended year ended sr particu...</td>\n",
              "      <td>Income Statment</td>\n",
              "      <td>total,profit,expense,income,tax</td>\n",
              "    </tr>\n",
              "    <tr>\n",
              "      <th>312</th>\n",
              "      <td>sr consolidated particular quarter ended year ...</td>\n",
              "      <td>Income Statment</td>\n",
              "      <td>total,profit,expense,income,tax</td>\n",
              "    </tr>\n",
              "  </tbody>\n",
              "</table>\n",
              "</div>\n",
              "    <div class=\"colab-df-buttons\">\n",
              "\n",
              "  <div class=\"colab-df-container\">\n",
              "    <button class=\"colab-df-convert\" onclick=\"convertToInteractive('df-a4132167-21ab-49d6-95b1-3b850b370d2a')\"\n",
              "            title=\"Convert this dataframe to an interactive table.\"\n",
              "            style=\"display:none;\">\n",
              "\n",
              "  <svg xmlns=\"http://www.w3.org/2000/svg\" height=\"24px\" viewBox=\"0 -960 960 960\">\n",
              "    <path d=\"M120-120v-720h720v720H120Zm60-500h600v-160H180v160Zm220 220h160v-160H400v160Zm0 220h160v-160H400v160ZM180-400h160v-160H180v160Zm440 0h160v-160H620v160ZM180-180h160v-160H180v160Zm440 0h160v-160H620v160Z\"/>\n",
              "  </svg>\n",
              "    </button>\n",
              "\n",
              "  <style>\n",
              "    .colab-df-container {\n",
              "      display:flex;\n",
              "      gap: 12px;\n",
              "    }\n",
              "\n",
              "    .colab-df-convert {\n",
              "      background-color: #E8F0FE;\n",
              "      border: none;\n",
              "      border-radius: 50%;\n",
              "      cursor: pointer;\n",
              "      display: none;\n",
              "      fill: #1967D2;\n",
              "      height: 32px;\n",
              "      padding: 0 0 0 0;\n",
              "      width: 32px;\n",
              "    }\n",
              "\n",
              "    .colab-df-convert:hover {\n",
              "      background-color: #E2EBFA;\n",
              "      box-shadow: 0px 1px 2px rgba(60, 64, 67, 0.3), 0px 1px 3px 1px rgba(60, 64, 67, 0.15);\n",
              "      fill: #174EA6;\n",
              "    }\n",
              "\n",
              "    .colab-df-buttons div {\n",
              "      margin-bottom: 4px;\n",
              "    }\n",
              "\n",
              "    [theme=dark] .colab-df-convert {\n",
              "      background-color: #3B4455;\n",
              "      fill: #D2E3FC;\n",
              "    }\n",
              "\n",
              "    [theme=dark] .colab-df-convert:hover {\n",
              "      background-color: #434B5C;\n",
              "      box-shadow: 0px 1px 3px 1px rgba(0, 0, 0, 0.15);\n",
              "      filter: drop-shadow(0px 1px 2px rgba(0, 0, 0, 0.3));\n",
              "      fill: #FFFFFF;\n",
              "    }\n",
              "  </style>\n",
              "\n",
              "    <script>\n",
              "      const buttonEl =\n",
              "        document.querySelector('#df-a4132167-21ab-49d6-95b1-3b850b370d2a button.colab-df-convert');\n",
              "      buttonEl.style.display =\n",
              "        google.colab.kernel.accessAllowed ? 'block' : 'none';\n",
              "\n",
              "      async function convertToInteractive(key) {\n",
              "        const element = document.querySelector('#df-a4132167-21ab-49d6-95b1-3b850b370d2a');\n",
              "        const dataTable =\n",
              "          await google.colab.kernel.invokeFunction('convertToInteractive',\n",
              "                                                    [key], {});\n",
              "        if (!dataTable) return;\n",
              "\n",
              "        const docLinkHtml = 'Like what you see? Visit the ' +\n",
              "          '<a target=\"_blank\" href=https://colab.research.google.com/notebooks/data_table.ipynb>data table notebook</a>'\n",
              "          + ' to learn more about interactive tables.';\n",
              "        element.innerHTML = '';\n",
              "        dataTable['output_type'] = 'display_data';\n",
              "        await google.colab.output.renderOutput(dataTable, element);\n",
              "        const docLink = document.createElement('div');\n",
              "        docLink.innerHTML = docLinkHtml;\n",
              "        element.appendChild(docLink);\n",
              "      }\n",
              "    </script>\n",
              "  </div>\n",
              "\n",
              "\n",
              "<div id=\"df-23d429b2-08f8-49af-ac0a-edb314deb9d5\">\n",
              "  <button class=\"colab-df-quickchart\" onclick=\"quickchart('df-23d429b2-08f8-49af-ac0a-edb314deb9d5')\"\n",
              "            title=\"Suggest charts\"\n",
              "            style=\"display:none;\">\n",
              "\n",
              "<svg xmlns=\"http://www.w3.org/2000/svg\" height=\"24px\"viewBox=\"0 0 24 24\"\n",
              "     width=\"24px\">\n",
              "    <g>\n",
              "        <path d=\"M19 3H5c-1.1 0-2 .9-2 2v14c0 1.1.9 2 2 2h14c1.1 0 2-.9 2-2V5c0-1.1-.9-2-2-2zM9 17H7v-7h2v7zm4 0h-2V7h2v10zm4 0h-2v-4h2v4z\"/>\n",
              "    </g>\n",
              "</svg>\n",
              "  </button>\n",
              "\n",
              "<style>\n",
              "  .colab-df-quickchart {\n",
              "      --bg-color: #E8F0FE;\n",
              "      --fill-color: #1967D2;\n",
              "      --hover-bg-color: #E2EBFA;\n",
              "      --hover-fill-color: #174EA6;\n",
              "      --disabled-fill-color: #AAA;\n",
              "      --disabled-bg-color: #DDD;\n",
              "  }\n",
              "\n",
              "  [theme=dark] .colab-df-quickchart {\n",
              "      --bg-color: #3B4455;\n",
              "      --fill-color: #D2E3FC;\n",
              "      --hover-bg-color: #434B5C;\n",
              "      --hover-fill-color: #FFFFFF;\n",
              "      --disabled-bg-color: #3B4455;\n",
              "      --disabled-fill-color: #666;\n",
              "  }\n",
              "\n",
              "  .colab-df-quickchart {\n",
              "    background-color: var(--bg-color);\n",
              "    border: none;\n",
              "    border-radius: 50%;\n",
              "    cursor: pointer;\n",
              "    display: none;\n",
              "    fill: var(--fill-color);\n",
              "    height: 32px;\n",
              "    padding: 0;\n",
              "    width: 32px;\n",
              "  }\n",
              "\n",
              "  .colab-df-quickchart:hover {\n",
              "    background-color: var(--hover-bg-color);\n",
              "    box-shadow: 0 1px 2px rgba(60, 64, 67, 0.3), 0 1px 3px 1px rgba(60, 64, 67, 0.15);\n",
              "    fill: var(--button-hover-fill-color);\n",
              "  }\n",
              "\n",
              "  .colab-df-quickchart-complete:disabled,\n",
              "  .colab-df-quickchart-complete:disabled:hover {\n",
              "    background-color: var(--disabled-bg-color);\n",
              "    fill: var(--disabled-fill-color);\n",
              "    box-shadow: none;\n",
              "  }\n",
              "\n",
              "  .colab-df-spinner {\n",
              "    border: 2px solid var(--fill-color);\n",
              "    border-color: transparent;\n",
              "    border-bottom-color: var(--fill-color);\n",
              "    animation:\n",
              "      spin 1s steps(1) infinite;\n",
              "  }\n",
              "\n",
              "  @keyframes spin {\n",
              "    0% {\n",
              "      border-color: transparent;\n",
              "      border-bottom-color: var(--fill-color);\n",
              "      border-left-color: var(--fill-color);\n",
              "    }\n",
              "    20% {\n",
              "      border-color: transparent;\n",
              "      border-left-color: var(--fill-color);\n",
              "      border-top-color: var(--fill-color);\n",
              "    }\n",
              "    30% {\n",
              "      border-color: transparent;\n",
              "      border-left-color: var(--fill-color);\n",
              "      border-top-color: var(--fill-color);\n",
              "      border-right-color: var(--fill-color);\n",
              "    }\n",
              "    40% {\n",
              "      border-color: transparent;\n",
              "      border-right-color: var(--fill-color);\n",
              "      border-top-color: var(--fill-color);\n",
              "    }\n",
              "    60% {\n",
              "      border-color: transparent;\n",
              "      border-right-color: var(--fill-color);\n",
              "    }\n",
              "    80% {\n",
              "      border-color: transparent;\n",
              "      border-right-color: var(--fill-color);\n",
              "      border-bottom-color: var(--fill-color);\n",
              "    }\n",
              "    90% {\n",
              "      border-color: transparent;\n",
              "      border-bottom-color: var(--fill-color);\n",
              "    }\n",
              "  }\n",
              "</style>\n",
              "\n",
              "  <script>\n",
              "    async function quickchart(key) {\n",
              "      const quickchartButtonEl =\n",
              "        document.querySelector('#' + key + ' button');\n",
              "      quickchartButtonEl.disabled = true;  // To prevent multiple clicks.\n",
              "      quickchartButtonEl.classList.add('colab-df-spinner');\n",
              "      try {\n",
              "        const charts = await google.colab.kernel.invokeFunction(\n",
              "            'suggestCharts', [key], {});\n",
              "      } catch (error) {\n",
              "        console.error('Error during call to suggestCharts:', error);\n",
              "      }\n",
              "      quickchartButtonEl.classList.remove('colab-df-spinner');\n",
              "      quickchartButtonEl.classList.add('colab-df-quickchart-complete');\n",
              "    }\n",
              "    (() => {\n",
              "      let quickchartButtonEl =\n",
              "        document.querySelector('#df-23d429b2-08f8-49af-ac0a-edb314deb9d5 button');\n",
              "      quickchartButtonEl.style.display =\n",
              "        google.colab.kernel.accessAllowed ? 'block' : 'none';\n",
              "    })();\n",
              "  </script>\n",
              "</div>\n",
              "\n",
              "    </div>\n",
              "  </div>\n"
            ],
            "application/vnd.google.colaboratory.intrinsic+json": {
              "type": "dataframe",
              "summary": "{\n  \"name\": \"dfIncomeStatement[:5]\",\n  \"rows\": 5,\n  \"fields\": [\n    {\n      \"column\": \"pdf_text\",\n      \"properties\": {\n        \"dtype\": \"string\",\n        \"num_unique_values\": 5,\n        \"samples\": [\n          \"particular quarter ended year ended year ende unaudited unaudited unaudited audited audited income revenue operation income total revenue expense finance cost employee benefit expense depreciation amo1 isation expense establishment expense provision wiite offs net total expense profit exceptional extraordinary item tax exceptional item profit extraordinary item tax extraordinary item profit tax tax expense net profit period paidup equity share capital face value reserve st march earning per share eps face value occalti emu uiiut\\u00bbu citllllfly rtl ltaut \\u00abj iflt mi 4m ltd debenture redemption reserve debt equity ratio long term borrowing short term borrowing current maturity lonq term borrowing shareholder fundus debt service coverage ratio profit tax interest charge interest charge principal reoavmentyi interest service coverage ratio profit tax interest charaesl interest charaes net warth\",\n          \"sr consolidated particular quarter ended year ended 31mar18 31dec17 31mar17 31mar18 31mar17 audited refer note reviewed audited refer note audited audited income operation gaming operation online gaming operation hospitality operation gross income operation le gst included le intragroup transaction net sale revenue income total income expense cost material consumed change inventory employee benefit expense depreciation amortization expense license fee registration charge gaming entertainment tax finance cost expenditure total expense abcdefgh profit exceptional item tax exceptional item profit exceptional item tax share loss associate joint venture profit tax operation tax expense net profit periodyear operation share non controlling interest net profit tax share non controlling interest comprehensive lncomeloss net tax total comprehensive losslncome tax paid equity share capital face value equity share rel equity excluding revaluation reserve profit loss attributable owner company non controlling interest comprehensive income attributable owner company non controlling interest total comprehensive income attributable owner company non controlling interest basic diluted eps1 annualised basic eps diluted eps\",\n          \"consolidated particular year ended year ended audited audited income revenue operation income total revenue expense finance cost emptovees benefit expense depreciation amortisation expense establishment expense provision mite offs net total expense prafit exceptional end extraordinary item tax exceptional item profit exlraordinarv item tax extraordinary item profit tax tax expense net profit year share profit llossl associate company minority interest net profit tax minority interest share profit loss associate company paidup eauitv share capital face value 2i reserve march earning per share eps face value 2i basic diluted eamina per share\"\n        ],\n        \"semantic_type\": \"\",\n        \"description\": \"\"\n      }\n    },\n    {\n      \"column\": \"label\",\n      \"properties\": {\n        \"dtype\": \"category\",\n        \"num_unique_values\": 1,\n        \"samples\": [\n          \"Income Statment\"\n        ],\n        \"semantic_type\": \"\",\n        \"description\": \"\"\n      }\n    },\n    {\n      \"column\": \"Identifiers\",\n      \"properties\": {\n        \"dtype\": \"category\",\n        \"num_unique_values\": 1,\n        \"samples\": [\n          \"total,profit,expense,income,tax\"\n        ],\n        \"semantic_type\": \"\",\n        \"description\": \"\"\n      }\n    }\n  ]\n}"
            }
          },
          "metadata": {},
          "execution_count": 30
        }
      ]
    },
    {
      "cell_type": "code",
      "source": [
        "dfNotes = Newdataset[Newdataset['label'] == 'Notes'][['pdf_text']]\n",
        "dfNotes['label'] = 'Notes'\n",
        "\n",
        "import re\n",
        "import string\n",
        "from nltk.corpus import stopwords\n",
        "from nltk.stem import WordNetLemmatizer\n",
        "\n",
        "# Function to remove specific patterns\n",
        "def remove_patterns(text):\n",
        "    # Defining patterns to remove\n",
        "    patterns_to_remove = [r'\\b\\d+(?:st|nd|rd|th)\\b', r'\\bbj\\b', r'\\bivj\\b']\n",
        "\n",
        "    # Replace patterns with empty string\n",
        "    for pattern in patterns_to_remove:\n",
        "        text = re.sub(pattern, '', text)\n",
        "    return text\n",
        "\n",
        "def remove_roman(text):\n",
        "    # Define pattern for Roman numerals (case-insensitive)\n",
        "    roman_pattern = r'\\b(?:i{1,3}|iv|v|vi{0,3}|ix|x{1,3}|xl|l|lx{0,3}|xc|c{1,3}|cd|d|dc{0,3}|cm|m{1,3})\\b'\n",
        "    # Replace Roman numerals with empty string\n",
        "    return re.sub(roman_pattern, '', text, flags=re.IGNORECASE)\n",
        "\n",
        "# Pre-processing the extracted textual data\n",
        "stop = stopwords.words('english')\n",
        "stemmer = WordNetLemmatizer()\n",
        "\n",
        "for index, row in dfNotes.iterrows():\n",
        "    text = row['pdf_text']\n",
        "    # Lower case conversion\n",
        "    text = \" \".join(text.lower() for text in text.split())\n",
        "    # Getting rid of special characters\n",
        "    text = text.translate(str.maketrans('', '', string.punctuation))\n",
        "    # Removing specific patterns\n",
        "    text = remove_patterns(text)\n",
        "    # Removing standalone numeric values\n",
        "    text = re.sub(r'\\b\\d+\\b', '', text)\n",
        "    # Removing Roman numerals\n",
        "    text = remove_roman(text)\n",
        "    # Removing stop words\n",
        "    text = \" \".join(word for word in text.split() if word not in stop)\n",
        "    # Removing single letters\n",
        "    text = \" \".join(word for word in text.split() if len(word) > 1)\n",
        "    # Converting words to their dictionary form\n",
        "    text = \" \".join(stemmer.lemmatize(word) for word in text.split())\n",
        "    # Update the 'pdf_text' column with preprocessed text\n",
        "    dfNotes.at[index, 'pdf_text'] = text\n"
      ],
      "metadata": {
        "id": "chSq6I6IhLKz"
      },
      "execution_count": 31,
      "outputs": []
    },
    {
      "cell_type": "code",
      "source": [
        "# Plotting 5 most occuring words in the 'BalanceSheets' documents\n",
        "Notesfreq = pd.Series(' '.join(dfNotes['pdf_text']).split()).value_counts()[:12]\n",
        "Notesfreq.plot(kind='barh');\n",
        "plt.show()"
      ],
      "metadata": {
        "colab": {
          "base_uri": "https://localhost:8080/",
          "height": 430
        },
        "id": "-1X4bgMXhmd0",
        "outputId": "519768d7-1299-42d5-9995-fd5a234036b0"
      },
      "execution_count": 32,
      "outputs": [
        {
          "output_type": "display_data",
          "data": {
            "text/plain": [
              "<Figure size 640x480 with 1 Axes>"
            ],
            "image/png": "[encoded data removed]"
          },
          "metadata": {}
        }
      ]
    },
    {
      "cell_type": "code",
      "source": [
        "dfNotes['pdf_text'].iloc[1]"
      ],
      "metadata": {
        "colab": {
          "base_uri": "https://localhost:8080/",
          "height": 108
        },
        "id": "pfNtWQhZh0Db",
        "outputId": "b48bb67c-0ae1-46db-d50e-0dcbc794ddc8"
      },
      "execution_count": 33,
      "outputs": [
        {
          "output_type": "execute_result",
          "data": {
            "text/plain": [
              "'hexaware technology limited parent wholly owned subsidiary hexaware technology inc usa hexaware technology mexico de rl de cv mexico hexaware technology ukltc uk hexaware technology asia pacific pte limitec singapore hexaware technology gmbh germany hexaware technology canada limitec canada dexaware technology brazil ltd brazi subsidiary hexaware technology uk ltd brazi guangzhou hexaware information technology company limitec china hexaware technology llc russia 1c hexaware technology saudi llc saudi arabia hexaware technology romania srl formec september subsidiary hexaware technology uk ltd romania associate fxperis technology solution pte ltd ownership interest hexaware technology asia pacific pte limited wef december singapore total'"
            ],
            "application/vnd.google.colaboratory.intrinsic+json": {
              "type": "string"
            }
          },
          "metadata": {},
          "execution_count": 33
        }
      ]
    },
    {
      "cell_type": "code",
      "source": [
        "dfNotes['Identifiers'] = 'year,share,note,particular,amount,total'\n",
        "dfNotes[:5]"
      ],
      "metadata": {
        "colab": {
          "base_uri": "https://localhost:8080/",
          "height": 206
        },
        "id": "uuUFq4vziDJt",
        "outputId": "2b5f7ca8-ce3a-4102-c123-a25e4299804a"
      },
      "execution_count": 34,
      "outputs": [
        {
          "output_type": "execute_result",
          "data": {
            "text/plain": [
              "                                              pdf_text  label  \\\n",
              "614  name entity country incorporation net asset ye...  Notes   \n",
              "615  hexaware technology limited parent wholly owne...  Notes   \n",
              "616  particular freehold land building plant machin...  Notes   \n",
              "617  january translation exchange rate difference d...  Notes   \n",
              "618  intangible asset intangible asset consist foll...  Notes   \n",
              "\n",
              "                                 Identifiers  \n",
              "614  year,share,note,particular,amount,total  \n",
              "615  year,share,note,particular,amount,total  \n",
              "616  year,share,note,particular,amount,total  \n",
              "617  year,share,note,particular,amount,total  \n",
              "618  year,share,note,particular,amount,total  "
            ],
            "text/html": [
              "\n",
              "  <div id=\"df-335c6eb2-63d3-4025-b7eb-97582d9a2209\" class=\"colab-df-container\">\n",
              "    <div>\n",
              "<style scoped>\n",
              "    .dataframe tbody tr th:only-of-type {\n",
              "        vertical-align: middle;\n",
              "    }\n",
              "\n",
              "    .dataframe tbody tr th {\n",
              "        vertical-align: top;\n",
              "    }\n",
              "\n",
              "    .dataframe thead th {\n",
              "        text-align: right;\n",
              "    }\n",
              "</style>\n",
              "<table border=\"1\" class=\"dataframe\">\n",
              "  <thead>\n",
              "    <tr style=\"text-align: right;\">\n",
              "      <th></th>\n",
              "      <th>pdf_text</th>\n",
              "      <th>label</th>\n",
              "      <th>Identifiers</th>\n",
              "    </tr>\n",
              "  </thead>\n",
              "  <tbody>\n",
              "    <tr>\n",
              "      <th>614</th>\n",
              "      <td>name entity country incorporation net asset ye...</td>\n",
              "      <td>Notes</td>\n",
              "      <td>year,share,note,particular,amount,total</td>\n",
              "    </tr>\n",
              "    <tr>\n",
              "      <th>615</th>\n",
              "      <td>hexaware technology limited parent wholly owne...</td>\n",
              "      <td>Notes</td>\n",
              "      <td>year,share,note,particular,amount,total</td>\n",
              "    </tr>\n",
              "    <tr>\n",
              "      <th>616</th>\n",
              "      <td>particular freehold land building plant machin...</td>\n",
              "      <td>Notes</td>\n",
              "      <td>year,share,note,particular,amount,total</td>\n",
              "    </tr>\n",
              "    <tr>\n",
              "      <th>617</th>\n",
              "      <td>january translation exchange rate difference d...</td>\n",
              "      <td>Notes</td>\n",
              "      <td>year,share,note,particular,amount,total</td>\n",
              "    </tr>\n",
              "    <tr>\n",
              "      <th>618</th>\n",
              "      <td>intangible asset intangible asset consist foll...</td>\n",
              "      <td>Notes</td>\n",
              "      <td>year,share,note,particular,amount,total</td>\n",
              "    </tr>\n",
              "  </tbody>\n",
              "</table>\n",
              "</div>\n",
              "    <div class=\"colab-df-buttons\">\n",
              "\n",
              "  <div class=\"colab-df-container\">\n",
              "    <button class=\"colab-df-convert\" onclick=\"convertToInteractive('df-335c6eb2-63d3-4025-b7eb-97582d9a2209')\"\n",
              "            title=\"Convert this dataframe to an interactive table.\"\n",
              "            style=\"display:none;\">\n",
              "\n",
              "  <svg xmlns=\"http://www.w3.org/2000/svg\" height=\"24px\" viewBox=\"0 -960 960 960\">\n",
              "    <path d=\"M120-120v-720h720v720H120Zm60-500h600v-160H180v160Zm220 220h160v-160H400v160Zm0 220h160v-160H400v160ZM180-400h160v-160H180v160Zm440 0h160v-160H620v160ZM180-180h160v-160H180v160Zm440 0h160v-160H620v160Z\"/>\n",
              "  </svg>\n",
              "    </button>\n",
              "\n",
              "  <style>\n",
              "    .colab-df-container {\n",
              "      display:flex;\n",
              "      gap: 12px;\n",
              "    }\n",
              "\n",
              "    .colab-df-convert {\n",
              "      background-color: #E8F0FE;\n",
              "      border: none;\n",
              "      border-radius: 50%;\n",
              "      cursor: pointer;\n",
              "      display: none;\n",
              "      fill: #1967D2;\n",
              "      height: 32px;\n",
              "      padding: 0 0 0 0;\n",
              "      width: 32px;\n",
              "    }\n",
              "\n",
              "    .colab-df-convert:hover {\n",
              "      background-color: #E2EBFA;\n",
              "      box-shadow: 0px 1px 2px rgba(60, 64, 67, 0.3), 0px 1px 3px 1px rgba(60, 64, 67, 0.15);\n",
              "      fill: #174EA6;\n",
              "    }\n",
              "\n",
              "    .colab-df-buttons div {\n",
              "      margin-bottom: 4px;\n",
              "    }\n",
              "\n",
              "    [theme=dark] .colab-df-convert {\n",
              "      background-color: #3B4455;\n",
              "      fill: #D2E3FC;\n",
              "    }\n",
              "\n",
              "    [theme=dark] .colab-df-convert:hover {\n",
              "      background-color: #434B5C;\n",
              "      box-shadow: 0px 1px 3px 1px rgba(0, 0, 0, 0.15);\n",
              "      filter: drop-shadow(0px 1px 2px rgba(0, 0, 0, 0.3));\n",
              "      fill: #FFFFFF;\n",
              "    }\n",
              "  </style>\n",
              "\n",
              "    <script>\n",
              "      const buttonEl =\n",
              "        document.querySelector('#df-335c6eb2-63d3-4025-b7eb-97582d9a2209 button.colab-df-convert');\n",
              "      buttonEl.style.display =\n",
              "        google.colab.kernel.accessAllowed ? 'block' : 'none';\n",
              "\n",
              "      async function convertToInteractive(key) {\n",
              "        const element = document.querySelector('#df-335c6eb2-63d3-4025-b7eb-97582d9a2209');\n",
              "        const dataTable =\n",
              "          await google.colab.kernel.invokeFunction('convertToInteractive',\n",
              "                                                    [key], {});\n",
              "        if (!dataTable) return;\n",
              "\n",
              "        const docLinkHtml = 'Like what you see? Visit the ' +\n",
              "          '<a target=\"_blank\" href=https://colab.research.google.com/notebooks/data_table.ipynb>data table notebook</a>'\n",
              "          + ' to learn more about interactive tables.';\n",
              "        element.innerHTML = '';\n",
              "        dataTable['output_type'] = 'display_data';\n",
              "        await google.colab.output.renderOutput(dataTable, element);\n",
              "        const docLink = document.createElement('div');\n",
              "        docLink.innerHTML = docLinkHtml;\n",
              "        element.appendChild(docLink);\n",
              "      }\n",
              "    </script>\n",
              "  </div>\n",
              "\n",
              "\n",
              "<div id=\"df-9e6faec0-6475-4979-b73d-c6ddcf9b3d4f\">\n",
              "  <button class=\"colab-df-quickchart\" onclick=\"quickchart('df-9e6faec0-6475-4979-b73d-c6ddcf9b3d4f')\"\n",
              "            title=\"Suggest charts\"\n",
              "            style=\"display:none;\">\n",
              "\n",
              "<svg xmlns=\"http://www.w3.org/2000/svg\" height=\"24px\"viewBox=\"0 0 24 24\"\n",
              "     width=\"24px\">\n",
              "    <g>\n",
              "        <path d=\"M19 3H5c-1.1 0-2 .9-2 2v14c0 1.1.9 2 2 2h14c1.1 0 2-.9 2-2V5c0-1.1-.9-2-2-2zM9 17H7v-7h2v7zm4 0h-2V7h2v10zm4 0h-2v-4h2v4z\"/>\n",
              "    </g>\n",
              "</svg>\n",
              "  </button>\n",
              "\n",
              "<style>\n",
              "  .colab-df-quickchart {\n",
              "      --bg-color: #E8F0FE;\n",
              "      --fill-color: #1967D2;\n",
              "      --hover-bg-color: #E2EBFA;\n",
              "      --hover-fill-color: #174EA6;\n",
              "      --disabled-fill-color: #AAA;\n",
              "      --disabled-bg-color: #DDD;\n",
              "  }\n",
              "\n",
              "  [theme=dark] .colab-df-quickchart {\n",
              "      --bg-color: #3B4455;\n",
              "      --fill-color: #D2E3FC;\n",
              "      --hover-bg-color: #434B5C;\n",
              "      --hover-fill-color: #FFFFFF;\n",
              "      --disabled-bg-color: #3B4455;\n",
              "      --disabled-fill-color: #666;\n",
              "  }\n",
              "\n",
              "  .colab-df-quickchart {\n",
              "    background-color: var(--bg-color);\n",
              "    border: none;\n",
              "    border-radius: 50%;\n",
              "    cursor: pointer;\n",
              "    display: none;\n",
              "    fill: var(--fill-color);\n",
              "    height: 32px;\n",
              "    padding: 0;\n",
              "    width: 32px;\n",
              "  }\n",
              "\n",
              "  .colab-df-quickchart:hover {\n",
              "    background-color: var(--hover-bg-color);\n",
              "    box-shadow: 0 1px 2px rgba(60, 64, 67, 0.3), 0 1px 3px 1px rgba(60, 64, 67, 0.15);\n",
              "    fill: var(--button-hover-fill-color);\n",
              "  }\n",
              "\n",
              "  .colab-df-quickchart-complete:disabled,\n",
              "  .colab-df-quickchart-complete:disabled:hover {\n",
              "    background-color: var(--disabled-bg-color);\n",
              "    fill: var(--disabled-fill-color);\n",
              "    box-shadow: none;\n",
              "  }\n",
              "\n",
              "  .colab-df-spinner {\n",
              "    border: 2px solid var(--fill-color);\n",
              "    border-color: transparent;\n",
              "    border-bottom-color: var(--fill-color);\n",
              "    animation:\n",
              "      spin 1s steps(1) infinite;\n",
              "  }\n",
              "\n",
              "  @keyframes spin {\n",
              "    0% {\n",
              "      border-color: transparent;\n",
              "      border-bottom-color: var(--fill-color);\n",
              "      border-left-color: var(--fill-color);\n",
              "    }\n",
              "    20% {\n",
              "      border-color: transparent;\n",
              "      border-left-color: var(--fill-color);\n",
              "      border-top-color: var(--fill-color);\n",
              "    }\n",
              "    30% {\n",
              "      border-color: transparent;\n",
              "      border-left-color: var(--fill-color);\n",
              "      border-top-color: var(--fill-color);\n",
              "      border-right-color: var(--fill-color);\n",
              "    }\n",
              "    40% {\n",
              "      border-color: transparent;\n",
              "      border-right-color: var(--fill-color);\n",
              "      border-top-color: var(--fill-color);\n",
              "    }\n",
              "    60% {\n",
              "      border-color: transparent;\n",
              "      border-right-color: var(--fill-color);\n",
              "    }\n",
              "    80% {\n",
              "      border-color: transparent;\n",
              "      border-right-color: var(--fill-color);\n",
              "      border-bottom-color: var(--fill-color);\n",
              "    }\n",
              "    90% {\n",
              "      border-color: transparent;\n",
              "      border-bottom-color: var(--fill-color);\n",
              "    }\n",
              "  }\n",
              "</style>\n",
              "\n",
              "  <script>\n",
              "    async function quickchart(key) {\n",
              "      const quickchartButtonEl =\n",
              "        document.querySelector('#' + key + ' button');\n",
              "      quickchartButtonEl.disabled = true;  // To prevent multiple clicks.\n",
              "      quickchartButtonEl.classList.add('colab-df-spinner');\n",
              "      try {\n",
              "        const charts = await google.colab.kernel.invokeFunction(\n",
              "            'suggestCharts', [key], {});\n",
              "      } catch (error) {\n",
              "        console.error('Error during call to suggestCharts:', error);\n",
              "      }\n",
              "      quickchartButtonEl.classList.remove('colab-df-spinner');\n",
              "      quickchartButtonEl.classList.add('colab-df-quickchart-complete');\n",
              "    }\n",
              "    (() => {\n",
              "      let quickchartButtonEl =\n",
              "        document.querySelector('#df-9e6faec0-6475-4979-b73d-c6ddcf9b3d4f button');\n",
              "      quickchartButtonEl.style.display =\n",
              "        google.colab.kernel.accessAllowed ? 'block' : 'none';\n",
              "    })();\n",
              "  </script>\n",
              "</div>\n",
              "\n",
              "    </div>\n",
              "  </div>\n"
            ],
            "application/vnd.google.colaboratory.intrinsic+json": {
              "type": "dataframe",
              "summary": "{\n  \"name\": \"dfNotes[:5]\",\n  \"rows\": 5,\n  \"fields\": [\n    {\n      \"column\": \"pdf_text\",\n      \"properties\": {\n        \"dtype\": \"string\",\n        \"num_unique_values\": 5,\n        \"samples\": [\n          \"hexaware technology limited parent wholly owned subsidiary hexaware technology inc usa hexaware technology mexico de rl de cv mexico hexaware technology ukltc uk hexaware technology asia pacific pte limitec singapore hexaware technology gmbh germany hexaware technology canada limitec canada dexaware technology brazil ltd brazi subsidiary hexaware technology uk ltd brazi guangzhou hexaware information technology company limitec china hexaware technology llc russia 1c hexaware technology saudi llc saudi arabia hexaware technology romania srl formec september subsidiary hexaware technology uk ltd romania associate fxperis technology solution pte ltd ownership interest hexaware technology asia pacific pte limited wef december singapore total\",\n          \"intangible asset intangible asset consist following million particular software license customer contract relation total cost january addition disposal translation exchange difference december accumulated amortisation january amortisation year disposal translation exchange difference december net carrying amount december\",\n          \"particular freehold land building plant machinery furniture fixture vehicle office equipment leaseho improve cost january addition disposal translation exchange difference december accumulated depreciation january charge year disposal translation exchange difference december net carrying amount december cost january addition disposal translation exchange difference december accumulated depreciation january charge year disposal translation exchange difference january net carrying amount december january deemed cost refer note 31c\"\n        ],\n        \"semantic_type\": \"\",\n        \"description\": \"\"\n      }\n    },\n    {\n      \"column\": \"label\",\n      \"properties\": {\n        \"dtype\": \"category\",\n        \"num_unique_values\": 1,\n        \"samples\": [\n          \"Notes\"\n        ],\n        \"semantic_type\": \"\",\n        \"description\": \"\"\n      }\n    },\n    {\n      \"column\": \"Identifiers\",\n      \"properties\": {\n        \"dtype\": \"category\",\n        \"num_unique_values\": 1,\n        \"samples\": [\n          \"year,share,note,particular,amount,total\"\n        ],\n        \"semantic_type\": \"\",\n        \"description\": \"\"\n      }\n    }\n  ]\n}"
            }
          },
          "metadata": {},
          "execution_count": 34
        }
      ]
    },
    {
      "cell_type": "code",
      "source": [
        "dfOthers = Newdataset[Newdataset['label'] == 'Others'][['pdf_text']]\n",
        "dfOthers['label'] = 'Others'"
      ],
      "metadata": {
        "id": "TvuFETlP477m"
      },
      "execution_count": 35,
      "outputs": []
    },
    {
      "cell_type": "code",
      "source": [
        "\n",
        "import re\n",
        "import string\n",
        "from nltk.corpus import stopwords\n",
        "from nltk.stem import WordNetLemmatizer\n",
        "\n",
        "# Function to remove specific patterns\n",
        "def remove_patterns(text):\n",
        "    # Defining patterns to remove\n",
        "    patterns_to_remove = [r'\\b\\d+(?:st|nd|rd|th)\\b', r'\\bbj\\b', r'\\bivj\\b']\n",
        "\n",
        "    # Replace patterns with empty string\n",
        "    for pattern in patterns_to_remove:\n",
        "        text = re.sub(pattern, '', text)\n",
        "    return text\n",
        "\n",
        "def remove_roman(text):\n",
        "    # Define pattern for Roman numerals (case-insensitive)\n",
        "    roman_pattern = r'\\b(?:i{1,3}|iv|v|vi{0,3}|ix|x{1,3}|xl|l|lx{0,3}|xc|c{1,3}|cd|d|dc{0,3}|cm|m{1,3})\\b'\n",
        "    # Replace Roman numerals with empty string\n",
        "    return re.sub(roman_pattern, '', text, flags=re.IGNORECASE)\n",
        "\n",
        "# Pre-processing the extracted textual data\n",
        "stop = stopwords.words('english')\n",
        "stemmer = WordNetLemmatizer()\n",
        "\n",
        "for index, row in dfOthers.iterrows():\n",
        "    text = row['pdf_text']\n",
        "    # Lower case conversion\n",
        "    text = \" \".join(text.lower() for text in text.split())\n",
        "    # Getting rid of special characters\n",
        "    text = text.translate(str.maketrans('', '', string.punctuation))\n",
        "    # Removing specific patterns\n",
        "    text = remove_patterns(text)\n",
        "    # Removing standalone numeric values\n",
        "    text = re.sub(r'\\b\\d+\\b', '', text)\n",
        "    # Removing Roman numerals\n",
        "    text = remove_roman(text)\n",
        "    # Removing stop words\n",
        "    text = \" \".join(word for word in text.split() if word not in stop)\n",
        "    # Removing single letters\n",
        "    text = \" \".join(word for word in text.split() if len(word) > 1)\n",
        "    # Converting words to their dictionary form\n",
        "    text = \" \".join(stemmer.lemmatize(word) for word in text.split())\n",
        "    # Update the 'pdf_text' column with preprocessed text\n",
        "    dfOthers.at[index, 'pdf_text'] = text\n"
      ],
      "metadata": {
        "id": "xdY3tnZekVNo"
      },
      "execution_count": 37,
      "outputs": []
    },
    {
      "cell_type": "code",
      "source": [
        "# Plotting 5 most occuring words in the 'BalanceSheets' documents\n",
        "Othersfreq = pd.Series(' '.join(dfOthers['pdf_text']).split()).value_counts()[:5]\n",
        "Othersfreq.plot(kind='barh')\n",
        "plt.show()"
      ],
      "metadata": {
        "colab": {
          "base_uri": "https://localhost:8080/",
          "height": 430
        },
        "id": "y1UNWyrJkoNz",
        "outputId": "ad31e81f-073f-4da1-89ca-301332fdfc67"
      },
      "execution_count": 38,
      "outputs": [
        {
          "output_type": "display_data",
          "data": {
            "text/plain": [
              "<Figure size 640x480 with 1 Axes>"
            ],
            "image/png": "[encoded data removed]"
          },
          "metadata": {}
        }
      ]
    },
    {
      "cell_type": "code",
      "source": [
        "dfOthers['Identifiers'] = 'ended,total,limited,segment,audited'\n",
        "dfOthers[:5]"
      ],
      "metadata": {
        "colab": {
          "base_uri": "https://localhost:8080/",
          "height": 206
        },
        "id": "AFdVm_5hk0zZ",
        "outputId": "ba112ea2-486f-4c42-e643-9a356dead5f2"
      },
      "execution_count": 39,
      "outputs": [
        {
          "output_type": "execute_result",
          "data": {
            "text/plain": [
              "                                               pdf_text   label  \\\n",
              "1305  remeasurement cost net defined benefit liabili...  Others   \n",
              "1306  particular consolidated standalone month ended...  Others   \n",
              "1307  particular consolidated standalone forex gain ...  Others   \n",
              "1308  quarter jan mar quarter janmar sato volume cam...  Others   \n",
              "1309  name company country incorporation nature rela...  Others   \n",
              "\n",
              "                              Identifiers  \n",
              "1305  ended,total,limited,segment,audited  \n",
              "1306  ended,total,limited,segment,audited  \n",
              "1307  ended,total,limited,segment,audited  \n",
              "1308  ended,total,limited,segment,audited  \n",
              "1309  ended,total,limited,segment,audited  "
            ],
            "text/html": [
              "\n",
              "  <div id=\"df-da9797d1-d0d0-486d-8167-4dba667e822d\" class=\"colab-df-container\">\n",
              "    <div>\n",
              "<style scoped>\n",
              "    .dataframe tbody tr th:only-of-type {\n",
              "        vertical-align: middle;\n",
              "    }\n",
              "\n",
              "    .dataframe tbody tr th {\n",
              "        vertical-align: top;\n",
              "    }\n",
              "\n",
              "    .dataframe thead th {\n",
              "        text-align: right;\n",
              "    }\n",
              "</style>\n",
              "<table border=\"1\" class=\"dataframe\">\n",
              "  <thead>\n",
              "    <tr style=\"text-align: right;\">\n",
              "      <th></th>\n",
              "      <th>pdf_text</th>\n",
              "      <th>label</th>\n",
              "      <th>Identifiers</th>\n",
              "    </tr>\n",
              "  </thead>\n",
              "  <tbody>\n",
              "    <tr>\n",
              "      <th>1305</th>\n",
              "      <td>remeasurement cost net defined benefit liabili...</td>\n",
              "      <td>Others</td>\n",
              "      <td>ended,total,limited,segment,audited</td>\n",
              "    </tr>\n",
              "    <tr>\n",
              "      <th>1306</th>\n",
              "      <td>particular consolidated standalone month ended...</td>\n",
              "      <td>Others</td>\n",
              "      <td>ended,total,limited,segment,audited</td>\n",
              "    </tr>\n",
              "    <tr>\n",
              "      <th>1307</th>\n",
              "      <td>particular consolidated standalone forex gain ...</td>\n",
              "      <td>Others</td>\n",
              "      <td>ended,total,limited,segment,audited</td>\n",
              "    </tr>\n",
              "    <tr>\n",
              "      <th>1308</th>\n",
              "      <td>quarter jan mar quarter janmar sato volume cam...</td>\n",
              "      <td>Others</td>\n",
              "      <td>ended,total,limited,segment,audited</td>\n",
              "    </tr>\n",
              "    <tr>\n",
              "      <th>1309</th>\n",
              "      <td>name company country incorporation nature rela...</td>\n",
              "      <td>Others</td>\n",
              "      <td>ended,total,limited,segment,audited</td>\n",
              "    </tr>\n",
              "  </tbody>\n",
              "</table>\n",
              "</div>\n",
              "    <div class=\"colab-df-buttons\">\n",
              "\n",
              "  <div class=\"colab-df-container\">\n",
              "    <button class=\"colab-df-convert\" onclick=\"convertToInteractive('df-da9797d1-d0d0-486d-8167-4dba667e822d')\"\n",
              "            title=\"Convert this dataframe to an interactive table.\"\n",
              "            style=\"display:none;\">\n",
              "\n",
              "  <svg xmlns=\"http://www.w3.org/2000/svg\" height=\"24px\" viewBox=\"0 -960 960 960\">\n",
              "    <path d=\"M120-120v-720h720v720H120Zm60-500h600v-160H180v160Zm220 220h160v-160H400v160Zm0 220h160v-160H400v160ZM180-400h160v-160H180v160Zm440 0h160v-160H620v160ZM180-180h160v-160H180v160Zm440 0h160v-160H620v160Z\"/>\n",
              "  </svg>\n",
              "    </button>\n",
              "\n",
              "  <style>\n",
              "    .colab-df-container {\n",
              "      display:flex;\n",
              "      gap: 12px;\n",
              "    }\n",
              "\n",
              "    .colab-df-convert {\n",
              "      background-color: #E8F0FE;\n",
              "      border: none;\n",
              "      border-radius: 50%;\n",
              "      cursor: pointer;\n",
              "      display: none;\n",
              "      fill: #1967D2;\n",
              "      height: 32px;\n",
              "      padding: 0 0 0 0;\n",
              "      width: 32px;\n",
              "    }\n",
              "\n",
              "    .colab-df-convert:hover {\n",
              "      background-color: #E2EBFA;\n",
              "      box-shadow: 0px 1px 2px rgba(60, 64, 67, 0.3), 0px 1px 3px 1px rgba(60, 64, 67, 0.15);\n",
              "      fill: #174EA6;\n",
              "    }\n",
              "\n",
              "    .colab-df-buttons div {\n",
              "      margin-bottom: 4px;\n",
              "    }\n",
              "\n",
              "    [theme=dark] .colab-df-convert {\n",
              "      background-color: #3B4455;\n",
              "      fill: #D2E3FC;\n",
              "    }\n",
              "\n",
              "    [theme=dark] .colab-df-convert:hover {\n",
              "      background-color: #434B5C;\n",
              "      box-shadow: 0px 1px 3px 1px rgba(0, 0, 0, 0.15);\n",
              "      filter: drop-shadow(0px 1px 2px rgba(0, 0, 0, 0.3));\n",
              "      fill: #FFFFFF;\n",
              "    }\n",
              "  </style>\n",
              "\n",
              "    <script>\n",
              "      const buttonEl =\n",
              "        document.querySelector('#df-da9797d1-d0d0-486d-8167-4dba667e822d button.colab-df-convert');\n",
              "      buttonEl.style.display =\n",
              "        google.colab.kernel.accessAllowed ? 'block' : 'none';\n",
              "\n",
              "      async function convertToInteractive(key) {\n",
              "        const element = document.querySelector('#df-da9797d1-d0d0-486d-8167-4dba667e822d');\n",
              "        const dataTable =\n",
              "          await google.colab.kernel.invokeFunction('convertToInteractive',\n",
              "                                                    [key], {});\n",
              "        if (!dataTable) return;\n",
              "\n",
              "        const docLinkHtml = 'Like what you see? Visit the ' +\n",
              "          '<a target=\"_blank\" href=https://colab.research.google.com/notebooks/data_table.ipynb>data table notebook</a>'\n",
              "          + ' to learn more about interactive tables.';\n",
              "        element.innerHTML = '';\n",
              "        dataTable['output_type'] = 'display_data';\n",
              "        await google.colab.output.renderOutput(dataTable, element);\n",
              "        const docLink = document.createElement('div');\n",
              "        docLink.innerHTML = docLinkHtml;\n",
              "        element.appendChild(docLink);\n",
              "      }\n",
              "    </script>\n",
              "  </div>\n",
              "\n",
              "\n",
              "<div id=\"df-586f009d-eec9-4d04-b3b9-dc3096812239\">\n",
              "  <button class=\"colab-df-quickchart\" onclick=\"quickchart('df-586f009d-eec9-4d04-b3b9-dc3096812239')\"\n",
              "            title=\"Suggest charts\"\n",
              "            style=\"display:none;\">\n",
              "\n",
              "<svg xmlns=\"http://www.w3.org/2000/svg\" height=\"24px\"viewBox=\"0 0 24 24\"\n",
              "     width=\"24px\">\n",
              "    <g>\n",
              "        <path d=\"M19 3H5c-1.1 0-2 .9-2 2v14c0 1.1.9 2 2 2h14c1.1 0 2-.9 2-2V5c0-1.1-.9-2-2-2zM9 17H7v-7h2v7zm4 0h-2V7h2v10zm4 0h-2v-4h2v4z\"/>\n",
              "    </g>\n",
              "</svg>\n",
              "  </button>\n",
              "\n",
              "<style>\n",
              "  .colab-df-quickchart {\n",
              "      --bg-color: #E8F0FE;\n",
              "      --fill-color: #1967D2;\n",
              "      --hover-bg-color: #E2EBFA;\n",
              "      --hover-fill-color: #174EA6;\n",
              "      --disabled-fill-color: #AAA;\n",
              "      --disabled-bg-color: #DDD;\n",
              "  }\n",
              "\n",
              "  [theme=dark] .colab-df-quickchart {\n",
              "      --bg-color: #3B4455;\n",
              "      --fill-color: #D2E3FC;\n",
              "      --hover-bg-color: #434B5C;\n",
              "      --hover-fill-color: #FFFFFF;\n",
              "      --disabled-bg-color: #3B4455;\n",
              "      --disabled-fill-color: #666;\n",
              "  }\n",
              "\n",
              "  .colab-df-quickchart {\n",
              "    background-color: var(--bg-color);\n",
              "    border: none;\n",
              "    border-radius: 50%;\n",
              "    cursor: pointer;\n",
              "    display: none;\n",
              "    fill: var(--fill-color);\n",
              "    height: 32px;\n",
              "    padding: 0;\n",
              "    width: 32px;\n",
              "  }\n",
              "\n",
              "  .colab-df-quickchart:hover {\n",
              "    background-color: var(--hover-bg-color);\n",
              "    box-shadow: 0 1px 2px rgba(60, 64, 67, 0.3), 0 1px 3px 1px rgba(60, 64, 67, 0.15);\n",
              "    fill: var(--button-hover-fill-color);\n",
              "  }\n",
              "\n",
              "  .colab-df-quickchart-complete:disabled,\n",
              "  .colab-df-quickchart-complete:disabled:hover {\n",
              "    background-color: var(--disabled-bg-color);\n",
              "    fill: var(--disabled-fill-color);\n",
              "    box-shadow: none;\n",
              "  }\n",
              "\n",
              "  .colab-df-spinner {\n",
              "    border: 2px solid var(--fill-color);\n",
              "    border-color: transparent;\n",
              "    border-bottom-color: var(--fill-color);\n",
              "    animation:\n",
              "      spin 1s steps(1) infinite;\n",
              "  }\n",
              "\n",
              "  @keyframes spin {\n",
              "    0% {\n",
              "      border-color: transparent;\n",
              "      border-bottom-color: var(--fill-color);\n",
              "      border-left-color: var(--fill-color);\n",
              "    }\n",
              "    20% {\n",
              "      border-color: transparent;\n",
              "      border-left-color: var(--fill-color);\n",
              "      border-top-color: var(--fill-color);\n",
              "    }\n",
              "    30% {\n",
              "      border-color: transparent;\n",
              "      border-left-color: var(--fill-color);\n",
              "      border-top-color: var(--fill-color);\n",
              "      border-right-color: var(--fill-color);\n",
              "    }\n",
              "    40% {\n",
              "      border-color: transparent;\n",
              "      border-right-color: var(--fill-color);\n",
              "      border-top-color: var(--fill-color);\n",
              "    }\n",
              "    60% {\n",
              "      border-color: transparent;\n",
              "      border-right-color: var(--fill-color);\n",
              "    }\n",
              "    80% {\n",
              "      border-color: transparent;\n",
              "      border-right-color: var(--fill-color);\n",
              "      border-bottom-color: var(--fill-color);\n",
              "    }\n",
              "    90% {\n",
              "      border-color: transparent;\n",
              "      border-bottom-color: var(--fill-color);\n",
              "    }\n",
              "  }\n",
              "</style>\n",
              "\n",
              "  <script>\n",
              "    async function quickchart(key) {\n",
              "      const quickchartButtonEl =\n",
              "        document.querySelector('#' + key + ' button');\n",
              "      quickchartButtonEl.disabled = true;  // To prevent multiple clicks.\n",
              "      quickchartButtonEl.classList.add('colab-df-spinner');\n",
              "      try {\n",
              "        const charts = await google.colab.kernel.invokeFunction(\n",
              "            'suggestCharts', [key], {});\n",
              "      } catch (error) {\n",
              "        console.error('Error during call to suggestCharts:', error);\n",
              "      }\n",
              "      quickchartButtonEl.classList.remove('colab-df-spinner');\n",
              "      quickchartButtonEl.classList.add('colab-df-quickchart-complete');\n",
              "    }\n",
              "    (() => {\n",
              "      let quickchartButtonEl =\n",
              "        document.querySelector('#df-586f009d-eec9-4d04-b3b9-dc3096812239 button');\n",
              "      quickchartButtonEl.style.display =\n",
              "        google.colab.kernel.accessAllowed ? 'block' : 'none';\n",
              "    })();\n",
              "  </script>\n",
              "</div>\n",
              "\n",
              "    </div>\n",
              "  </div>\n"
            ],
            "application/vnd.google.colaboratory.intrinsic+json": {
              "type": "dataframe",
              "summary": "{\n  \"name\": \"dfOthers[:5]\",\n  \"rows\": 5,\n  \"fields\": [\n    {\n      \"column\": \"pdf_text\",\n      \"properties\": {\n        \"dtype\": \"string\",\n        \"num_unique_values\": 5,\n        \"samples\": [\n          \"particular consolidated standalone month ended month ended corresponding month ended year ended month ended month ended cor mon 31mar18 oec17 31mar17 oec17 31mar18 oec2017 unaudited refer note audited unaudited refer note audited unaudited refer note audited una operating revenue rating service research service advisory service total revenue operation le inter segment revenue net income operation id segment profit rating service research service advisory service total operating profit add le interest li unallocable income net unallocable eicpenditure refer note lii depreciation amortisation unallocable net profit ordinary activity tax segment asset refer note rating service research service advisory service 7z01 unallocable net segment liability refer note rating service research service advisory service unallocable net capital employed refer ncte rating service research service advisory service unallocable net\",\n          \"name company country incorporation nature relationship holding cyient inc usa subsidiary cyient canada inc canada step subsidiary cyient defense service inc refer note usa step subsidiary certon software inc refer note usa step subsidiary certon instrument inc refer note usa step subsidiary bf design inc refer note usa step subsidiary cyient insight private limited india subsidiary cyient insight llc usa step subsidiary cyient europe limited refer note uk subsidiary cyient benelux bv netherlands step subsidiary cyient schweiz gmbh switzerland step subsidiary cyient sro czech republic step subsidiary cyient gmbh germany subsidiary cyient ab sweden step subsidiary cyient kk japan subsidiary cyient dlm private limited formerly rangsons electronics private limited india subsidiary techno tool precision engineering private limited refer note india step subsidiary cyient singapore private limited singapore subsidiary cyient australia pty ltd australia subsidiary cyient israel india limited refer note israel subsidiary infotech hal limited india joint venture infotech aerospace service inc refer note 5a puerto rico associate cyient solution system private limited refer note india subsidiary\",\n          \"particular consolidated standalone forex gain loss included income expense income expense quarter ended march nil nil quarter ended december nil nil quarter ended march nil nil year ended december\"\n        ],\n        \"semantic_type\": \"\",\n        \"description\": \"\"\n      }\n    },\n    {\n      \"column\": \"label\",\n      \"properties\": {\n        \"dtype\": \"category\",\n        \"num_unique_values\": 1,\n        \"samples\": [\n          \"Others\"\n        ],\n        \"semantic_type\": \"\",\n        \"description\": \"\"\n      }\n    },\n    {\n      \"column\": \"Identifiers\",\n      \"properties\": {\n        \"dtype\": \"category\",\n        \"num_unique_values\": 1,\n        \"samples\": [\n          \"ended,total,limited,segment,audited\"\n        ],\n        \"semantic_type\": \"\",\n        \"description\": \"\"\n      }\n    }\n  ]\n}"
            }
          },
          "metadata": {},
          "execution_count": 39
        }
      ]
    },
    {
      "cell_type": "markdown",
      "source": [
        "#Merging all the data with the labels for further processing"
      ],
      "metadata": {
        "id": "BHJ_lBc0mC-Q"
      }
    },
    {
      "cell_type": "code",
      "source": [
        "frames = [dfBalanceSheets, dfCashFlows, dfIncomeStatement, dfNotes, dfOthers]\n",
        "finalframe = pd.concat(frames,sort=False)\n",
        "finalframe = finalframe[['label','pdf_text','Identifiers']]\n",
        "finalframe = finalframe.reset_index(drop=True)\n",
        "finalframe[:5]\n"
      ],
      "metadata": {
        "colab": {
          "base_uri": "https://localhost:8080/",
          "height": 206
        },
        "id": "XMNS-akUlBBX",
        "outputId": "c68e8939-1f48-449a-9a9f-d0e839defde1"
      },
      "execution_count": 40,
      "outputs": [
        {
          "output_type": "execute_result",
          "data": {
            "text/plain": [
              "            label                                           pdf_text  \\\n",
              "0  Balance Sheets  lac lac standalone consolidated sr particular ...   \n",
              "1  Balance Sheets  consolidated standalone particular mar18 mar17...   \n",
              "2  Balance Sheets  standalone consolidated audited audited partic...   \n",
              "3  Balance Sheets  gujarat narmada valley fertilizer chemical lim...   \n",
              "4  Balance Sheets  standalone consolidated particular equity liab...   \n",
              "\n",
              "                                Identifiers  \n",
              "0  equity,financial,current,liability,asset  \n",
              "1  equity,financial,current,liability,asset  \n",
              "2  equity,financial,current,liability,asset  \n",
              "3  equity,financial,current,liability,asset  \n",
              "4  equity,financial,current,liability,asset  "
            ],
            "text/html": [
              "\n",
              "  <div id=\"df-f55cc4dc-3241-4196-894f-ab964a153419\" class=\"colab-df-container\">\n",
              "    <div>\n",
              "<style scoped>\n",
              "    .dataframe tbody tr th:only-of-type {\n",
              "        vertical-align: middle;\n",
              "    }\n",
              "\n",
              "    .dataframe tbody tr th {\n",
              "        vertical-align: top;\n",
              "    }\n",
              "\n",
              "    .dataframe thead th {\n",
              "        text-align: right;\n",
              "    }\n",
              "</style>\n",
              "<table border=\"1\" class=\"dataframe\">\n",
              "  <thead>\n",
              "    <tr style=\"text-align: right;\">\n",
              "      <th></th>\n",
              "      <th>label</th>\n",
              "      <th>pdf_text</th>\n",
              "      <th>Identifiers</th>\n",
              "    </tr>\n",
              "  </thead>\n",
              "  <tbody>\n",
              "    <tr>\n",
              "      <th>0</th>\n",
              "      <td>Balance Sheets</td>\n",
              "      <td>lac lac standalone consolidated sr particular ...</td>\n",
              "      <td>equity,financial,current,liability,asset</td>\n",
              "    </tr>\n",
              "    <tr>\n",
              "      <th>1</th>\n",
              "      <td>Balance Sheets</td>\n",
              "      <td>consolidated standalone particular mar18 mar17...</td>\n",
              "      <td>equity,financial,current,liability,asset</td>\n",
              "    </tr>\n",
              "    <tr>\n",
              "      <th>2</th>\n",
              "      <td>Balance Sheets</td>\n",
              "      <td>standalone consolidated audited audited partic...</td>\n",
              "      <td>equity,financial,current,liability,asset</td>\n",
              "    </tr>\n",
              "    <tr>\n",
              "      <th>3</th>\n",
              "      <td>Balance Sheets</td>\n",
              "      <td>gujarat narmada valley fertilizer chemical lim...</td>\n",
              "      <td>equity,financial,current,liability,asset</td>\n",
              "    </tr>\n",
              "    <tr>\n",
              "      <th>4</th>\n",
              "      <td>Balance Sheets</td>\n",
              "      <td>standalone consolidated particular equity liab...</td>\n",
              "      <td>equity,financial,current,liability,asset</td>\n",
              "    </tr>\n",
              "  </tbody>\n",
              "</table>\n",
              "</div>\n",
              "    <div class=\"colab-df-buttons\">\n",
              "\n",
              "  <div class=\"colab-df-container\">\n",
              "    <button class=\"colab-df-convert\" onclick=\"convertToInteractive('df-f55cc4dc-3241-4196-894f-ab964a153419')\"\n",
              "            title=\"Convert this dataframe to an interactive table.\"\n",
              "            style=\"display:none;\">\n",
              "\n",
              "  <svg xmlns=\"http://www.w3.org/2000/svg\" height=\"24px\" viewBox=\"0 -960 960 960\">\n",
              "    <path d=\"M120-120v-720h720v720H120Zm60-500h600v-160H180v160Zm220 220h160v-160H400v160Zm0 220h160v-160H400v160ZM180-400h160v-160H180v160Zm440 0h160v-160H620v160ZM180-180h160v-160H180v160Zm440 0h160v-160H620v160Z\"/>\n",
              "  </svg>\n",
              "    </button>\n",
              "\n",
              "  <style>\n",
              "    .colab-df-container {\n",
              "      display:flex;\n",
              "      gap: 12px;\n",
              "    }\n",
              "\n",
              "    .colab-df-convert {\n",
              "      background-color: #E8F0FE;\n",
              "      border: none;\n",
              "      border-radius: 50%;\n",
              "      cursor: pointer;\n",
              "      display: none;\n",
              "      fill: #1967D2;\n",
              "      height: 32px;\n",
              "      padding: 0 0 0 0;\n",
              "      width: 32px;\n",
              "    }\n",
              "\n",
              "    .colab-df-convert:hover {\n",
              "      background-color: #E2EBFA;\n",
              "      box-shadow: 0px 1px 2px rgba(60, 64, 67, 0.3), 0px 1px 3px 1px rgba(60, 64, 67, 0.15);\n",
              "      fill: #174EA6;\n",
              "    }\n",
              "\n",
              "    .colab-df-buttons div {\n",
              "      margin-bottom: 4px;\n",
              "    }\n",
              "\n",
              "    [theme=dark] .colab-df-convert {\n",
              "      background-color: #3B4455;\n",
              "      fill: #D2E3FC;\n",
              "    }\n",
              "\n",
              "    [theme=dark] .colab-df-convert:hover {\n",
              "      background-color: #434B5C;\n",
              "      box-shadow: 0px 1px 3px 1px rgba(0, 0, 0, 0.15);\n",
              "      filter: drop-shadow(0px 1px 2px rgba(0, 0, 0, 0.3));\n",
              "      fill: #FFFFFF;\n",
              "    }\n",
              "  </style>\n",
              "\n",
              "    <script>\n",
              "      const buttonEl =\n",
              "        document.querySelector('#df-f55cc4dc-3241-4196-894f-ab964a153419 button.colab-df-convert');\n",
              "      buttonEl.style.display =\n",
              "        google.colab.kernel.accessAllowed ? 'block' : 'none';\n",
              "\n",
              "      async function convertToInteractive(key) {\n",
              "        const element = document.querySelector('#df-f55cc4dc-3241-4196-894f-ab964a153419');\n",
              "        const dataTable =\n",
              "          await google.colab.kernel.invokeFunction('convertToInteractive',\n",
              "                                                    [key], {});\n",
              "        if (!dataTable) return;\n",
              "\n",
              "        const docLinkHtml = 'Like what you see? Visit the ' +\n",
              "          '<a target=\"_blank\" href=https://colab.research.google.com/notebooks/data_table.ipynb>data table notebook</a>'\n",
              "          + ' to learn more about interactive tables.';\n",
              "        element.innerHTML = '';\n",
              "        dataTable['output_type'] = 'display_data';\n",
              "        await google.colab.output.renderOutput(dataTable, element);\n",
              "        const docLink = document.createElement('div');\n",
              "        docLink.innerHTML = docLinkHtml;\n",
              "        element.appendChild(docLink);\n",
              "      }\n",
              "    </script>\n",
              "  </div>\n",
              "\n",
              "\n",
              "<div id=\"df-1fecc332-fbd0-444b-90db-2843e64c10bf\">\n",
              "  <button class=\"colab-df-quickchart\" onclick=\"quickchart('df-1fecc332-fbd0-444b-90db-2843e64c10bf')\"\n",
              "            title=\"Suggest charts\"\n",
              "            style=\"display:none;\">\n",
              "\n",
              "<svg xmlns=\"http://www.w3.org/2000/svg\" height=\"24px\"viewBox=\"0 0 24 24\"\n",
              "     width=\"24px\">\n",
              "    <g>\n",
              "        <path d=\"M19 3H5c-1.1 0-2 .9-2 2v14c0 1.1.9 2 2 2h14c1.1 0 2-.9 2-2V5c0-1.1-.9-2-2-2zM9 17H7v-7h2v7zm4 0h-2V7h2v10zm4 0h-2v-4h2v4z\"/>\n",
              "    </g>\n",
              "</svg>\n",
              "  </button>\n",
              "\n",
              "<style>\n",
              "  .colab-df-quickchart {\n",
              "      --bg-color: #E8F0FE;\n",
              "      --fill-color: #1967D2;\n",
              "      --hover-bg-color: #E2EBFA;\n",
              "      --hover-fill-color: #174EA6;\n",
              "      --disabled-fill-color: #AAA;\n",
              "      --disabled-bg-color: #DDD;\n",
              "  }\n",
              "\n",
              "  [theme=dark] .colab-df-quickchart {\n",
              "      --bg-color: #3B4455;\n",
              "      --fill-color: #D2E3FC;\n",
              "      --hover-bg-color: #434B5C;\n",
              "      --hover-fill-color: #FFFFFF;\n",
              "      --disabled-bg-color: #3B4455;\n",
              "      --disabled-fill-color: #666;\n",
              "  }\n",
              "\n",
              "  .colab-df-quickchart {\n",
              "    background-color: var(--bg-color);\n",
              "    border: none;\n",
              "    border-radius: 50%;\n",
              "    cursor: pointer;\n",
              "    display: none;\n",
              "    fill: var(--fill-color);\n",
              "    height: 32px;\n",
              "    padding: 0;\n",
              "    width: 32px;\n",
              "  }\n",
              "\n",
              "  .colab-df-quickchart:hover {\n",
              "    background-color: var(--hover-bg-color);\n",
              "    box-shadow: 0 1px 2px rgba(60, 64, 67, 0.3), 0 1px 3px 1px rgba(60, 64, 67, 0.15);\n",
              "    fill: var(--button-hover-fill-color);\n",
              "  }\n",
              "\n",
              "  .colab-df-quickchart-complete:disabled,\n",
              "  .colab-df-quickchart-complete:disabled:hover {\n",
              "    background-color: var(--disabled-bg-color);\n",
              "    fill: var(--disabled-fill-color);\n",
              "    box-shadow: none;\n",
              "  }\n",
              "\n",
              "  .colab-df-spinner {\n",
              "    border: 2px solid var(--fill-color);\n",
              "    border-color: transparent;\n",
              "    border-bottom-color: var(--fill-color);\n",
              "    animation:\n",
              "      spin 1s steps(1) infinite;\n",
              "  }\n",
              "\n",
              "  @keyframes spin {\n",
              "    0% {\n",
              "      border-color: transparent;\n",
              "      border-bottom-color: var(--fill-color);\n",
              "      border-left-color: var(--fill-color);\n",
              "    }\n",
              "    20% {\n",
              "      border-color: transparent;\n",
              "      border-left-color: var(--fill-color);\n",
              "      border-top-color: var(--fill-color);\n",
              "    }\n",
              "    30% {\n",
              "      border-color: transparent;\n",
              "      border-left-color: var(--fill-color);\n",
              "      border-top-color: var(--fill-color);\n",
              "      border-right-color: var(--fill-color);\n",
              "    }\n",
              "    40% {\n",
              "      border-color: transparent;\n",
              "      border-right-color: var(--fill-color);\n",
              "      border-top-color: var(--fill-color);\n",
              "    }\n",
              "    60% {\n",
              "      border-color: transparent;\n",
              "      border-right-color: var(--fill-color);\n",
              "    }\n",
              "    80% {\n",
              "      border-color: transparent;\n",
              "      border-right-color: var(--fill-color);\n",
              "      border-bottom-color: var(--fill-color);\n",
              "    }\n",
              "    90% {\n",
              "      border-color: transparent;\n",
              "      border-bottom-color: var(--fill-color);\n",
              "    }\n",
              "  }\n",
              "</style>\n",
              "\n",
              "  <script>\n",
              "    async function quickchart(key) {\n",
              "      const quickchartButtonEl =\n",
              "        document.querySelector('#' + key + ' button');\n",
              "      quickchartButtonEl.disabled = true;  // To prevent multiple clicks.\n",
              "      quickchartButtonEl.classList.add('colab-df-spinner');\n",
              "      try {\n",
              "        const charts = await google.colab.kernel.invokeFunction(\n",
              "            'suggestCharts', [key], {});\n",
              "      } catch (error) {\n",
              "        console.error('Error during call to suggestCharts:', error);\n",
              "      }\n",
              "      quickchartButtonEl.classList.remove('colab-df-spinner');\n",
              "      quickchartButtonEl.classList.add('colab-df-quickchart-complete');\n",
              "    }\n",
              "    (() => {\n",
              "      let quickchartButtonEl =\n",
              "        document.querySelector('#df-1fecc332-fbd0-444b-90db-2843e64c10bf button');\n",
              "      quickchartButtonEl.style.display =\n",
              "        google.colab.kernel.accessAllowed ? 'block' : 'none';\n",
              "    })();\n",
              "  </script>\n",
              "</div>\n",
              "\n",
              "    </div>\n",
              "  </div>\n"
            ],
            "application/vnd.google.colaboratory.intrinsic+json": {
              "type": "dataframe",
              "summary": "{\n  \"name\": \"finalframe[:5]\",\n  \"rows\": 5,\n  \"fields\": [\n    {\n      \"column\": \"label\",\n      \"properties\": {\n        \"dtype\": \"category\",\n        \"num_unique_values\": 1,\n        \"samples\": [\n          \"Balance Sheets\"\n        ],\n        \"semantic_type\": \"\",\n        \"description\": \"\"\n      }\n    },\n    {\n      \"column\": \"pdf_text\",\n      \"properties\": {\n        \"dtype\": \"string\",\n        \"num_unique_values\": 5,\n        \"samples\": [\n          \"consolidated standalone particular mar18 mar17 mar18 mar17 asset noncurrent asset property plant equipment capital workinprogress goodwill intangible asset intangible asset development financial asset investment loan financial asset deferred tax asset net income tax asset net noncurrent asset total noncurrent asset current asset inventory financial asset investment trade receivables cash cash equivalent bank balance loan financial asset current asset total current asset total asset equity liability equity equity share capital equity equity attributable shareholder company noncontrolling interest total equity noncurrent liability financial liability borrowing financial liability provision deferred tax liability net income tax liability net noncurrent liability total noncurrent liability current liability financial liability borrowing trade payable financial liability income tax liability net provision current liability total current liability total liability total equity liability\"\n        ],\n        \"semantic_type\": \"\",\n        \"description\": \"\"\n      }\n    },\n    {\n      \"column\": \"Identifiers\",\n      \"properties\": {\n        \"dtype\": \"category\",\n        \"num_unique_values\": 1,\n        \"samples\": [\n          \"equity,financial,current,liability,asset\"\n        ],\n        \"semantic_type\": \"\",\n        \"description\": \"\"\n      }\n    }\n  ]\n}"
            }
          },
          "metadata": {},
          "execution_count": 40
        }
      ]
    },
    {
      "cell_type": "markdown",
      "source": [
        "#Counting the data points of each category"
      ],
      "metadata": {
        "id": "0oB4ni5G59hz"
      }
    },
    {
      "cell_type": "code",
      "source": [
        "# check target bala\n",
        "plt.figure(figsize=(10,4))\n",
        "finalframe['label'].value_counts(normalize = True).plot.bar()"
      ],
      "metadata": {
        "colab": {
          "base_uri": "https://localhost:8080/",
          "height": 512
        },
        "id": "hqiC29AN8ydA",
        "outputId": "6ab9a000-51e1-4727-dc37-3d18c2f15c04"
      },
      "execution_count": 41,
      "outputs": [
        {
          "output_type": "execute_result",
          "data": {
            "text/plain": [
              "<Axes: xlabel='label'>"
            ]
          },
          "metadata": {},
          "execution_count": 41
        },
        {
          "output_type": "display_data",
          "data": {
            "text/plain": [
              "<Figure size 1000x400 with 1 Axes>"
            ],
            "image/png": "[encoded data removed]"
          },
          "metadata": {}
        }
      ]
    },
    {
      "cell_type": "markdown",
      "source": [
        "Here we have less Cash FLow category data and Others data category has more number of data values that is the data is imbalance.\n",
        "Since we cant lose the data values we will perform oversampling.\n"
      ],
      "metadata": {
        "id": "rUhr3EF46kdV"
      }
    },
    {
      "cell_type": "code",
      "source": [
        "# Converting the text data to numeric values representation or vectors using TF-IDF\n",
        "from sklearn.feature_extraction.text import TfidfVectorizer\n",
        "from sklearn.preprocessing import LabelEncoder\n",
        "# Generating 1000 features for the input for the model\n",
        "tfidfconverter = TfidfVectorizer(max_features=1000, stop_words=stopwords.words('english'))\n",
        "X = pd.DataFrame(tfidfconverter.fit_transform(finalframe['pdf_text']).toarray())\n",
        "print(X[:5])\n",
        "#X.columns = range(X.shape[1])\n",
        "labelencoder = LabelEncoder() #Converting the labels to numeric labels\n",
        "y = labelencoder.fit_transform(finalframe['label'])"
      ],
      "metadata": {
        "colab": {
          "base_uri": "https://localhost:8080/"
        },
        "id": "RvYUSNcd6Xsk",
        "outputId": "c505d6d8-a27b-4c4d-d260-e54be586a6b3"
      },
      "execution_count": 42,
      "outputs": [
        {
          "output_type": "stream",
          "name": "stdout",
          "text": [
            "   0    1    2    3    4    5    6    7    8    9    ...  990  991  992  993  \\\n",
            "0  0.0  0.0  0.0  0.0  0.0  0.0  0.0  0.0  0.0  0.0  ...  0.0  0.0  0.0  0.0   \n",
            "1  0.0  0.0  0.0  0.0  0.0  0.0  0.0  0.0  0.0  0.0  ...  0.0  0.0  0.0  0.0   \n",
            "2  0.0  0.0  0.0  0.0  0.0  0.0  0.0  0.0  0.0  0.0  ...  0.0  0.0  0.0  0.0   \n",
            "3  0.0  0.0  0.0  0.0  0.0  0.0  0.0  0.0  0.0  0.0  ...  0.0  0.0  0.0  0.0   \n",
            "4  0.0  0.0  0.0  0.0  0.0  0.0  0.0  0.0  0.0  0.0  ...  0.0  0.0  0.0  0.0   \n",
            "\n",
            "   994  995  996  997  998  999  \n",
            "0  0.0  0.0  0.0  0.0  0.0  0.0  \n",
            "1  0.0  0.0  0.0  0.0  0.0  0.0  \n",
            "2  0.0  0.0  0.0  0.0  0.0  0.0  \n",
            "3  0.0  0.0  0.0  0.0  0.0  0.0  \n",
            "4  0.0  0.0  0.0  0.0  0.0  0.0  \n",
            "\n",
            "[5 rows x 1000 columns]\n"
          ]
        }
      ]
    },
    {
      "cell_type": "code",
      "source": [
        "!pip install joblib"
      ],
      "metadata": {
        "colab": {
          "base_uri": "https://localhost:8080/"
        },
        "id": "CD2dw8QsNZHm",
        "outputId": "95b0df98-c3bb-4062-f127-e817c539c1f5"
      },
      "execution_count": 43,
      "outputs": [
        {
          "output_type": "stream",
          "name": "stdout",
          "text": [
            "Requirement already satisfied: joblib in /usr/local/lib/python3.10/dist-packages (1.4.2)\n"
          ]
        }
      ]
    },
    {
      "cell_type": "code",
      "source": [
        "import joblib\n",
        "# Saving the vectorizer to disk\n",
        "joblib.dump(tfidfconverter, 'tfidf_vectorizer.pkl')"
      ],
      "metadata": {
        "colab": {
          "base_uri": "https://localhost:8080/"
        },
        "id": "6x7xRMxbNGoy",
        "outputId": "a1d5fed8-6b4d-4da4-814d-c648fbe4a563"
      },
      "execution_count": 44,
      "outputs": [
        {
          "output_type": "execute_result",
          "data": {
            "text/plain": [
              "['tfidf_vectorizer.pkl']"
            ]
          },
          "metadata": {},
          "execution_count": 44
        }
      ]
    },
    {
      "cell_type": "code",
      "source": [
        "from sklearn.model_selection import train_test_split\n",
        "X_train, X_test, y_train, y_test = train_test_split(X, y, test_size=0.2, random_state=0)"
      ],
      "metadata": {
        "id": "nX-X3Raw9i-l"
      },
      "execution_count": 45,
      "outputs": []
    },
    {
      "cell_type": "code",
      "source": [
        "# Managing the imbalace data\n",
        "from imblearn.over_sampling import RandomOverSampler\n",
        "ros = RandomOverSampler(random_state=1)\n",
        "X_resampled, y_resampled = ros.fit_resample(X, y)"
      ],
      "metadata": {
        "id": "qJPl6ZKx-Dzo"
      },
      "execution_count": 46,
      "outputs": []
    },
    {
      "cell_type": "code",
      "source": [
        "import numpy as np\n",
        "unique, counts = np.unique(y_resampled, return_counts=True)\n",
        "print(np.asarray((unique, counts)).T)"
      ],
      "metadata": {
        "colab": {
          "base_uri": "https://localhost:8080/"
        },
        "id": "U4dZBZ83-UiA",
        "outputId": "ea474bd8-0169-437a-c595-7ed39382e498"
      },
      "execution_count": 47,
      "outputs": [
        {
          "output_type": "stream",
          "name": "stdout",
          "text": [
            "[[   0 1224]\n",
            " [   1 1224]\n",
            " [   2 1224]\n",
            " [   3 1224]\n",
            " [   4 1224]]\n"
          ]
        }
      ]
    },
    {
      "cell_type": "markdown",
      "source": [
        "The data has been now balanced using random oversampling method."
      ],
      "metadata": {
        "id": "kYgwRegi-tmW"
      }
    },
    {
      "cell_type": "code",
      "source": [
        "# Train and test data split\n",
        "from sklearn.model_selection import train_test_split\n",
        "X_train, X_test, y_train, y_test = train_test_split(X_resampled, y_resampled, test_size=0.2, random_state=0)"
      ],
      "metadata": {
        "id": "gtGUT9EY-pOS"
      },
      "execution_count": 48,
      "outputs": []
    },
    {
      "cell_type": "markdown",
      "source": [
        "#Building different models and comparing their performances\n",
        "##Random Forest Classifier\n",
        "Random Forest is an ensemble model of decision trees. Here it is used to classify the features into different categories. The reason I decided to go with RFC is beacuse of it's robustness on small datasets."
      ],
      "metadata": {
        "id": "MPSs8Y0-ApJX"
      }
    },
    {
      "cell_type": "code",
      "source": [
        "from sklearn.ensemble import RandomForestClassifier\n",
        "from sklearn import preprocessing\n",
        "classifier = RandomForestClassifier(n_estimators=1200, random_state=1)  #defining 1000 nodes\n",
        "rf = classifier.fit(X_train, y_train)\n",
        "y_pred = classifier.predict(X_test)"
      ],
      "metadata": {
        "id": "OlIlOrDuAeiH"
      },
      "execution_count": 49,
      "outputs": []
    },
    {
      "cell_type": "code",
      "source": [
        "my_tags = ['Balance Sheets','Cash Flow','Income Statement','Notes','Others']\n",
        "from sklearn.metrics import classification_report, confusion_matrix, accuracy_score\n",
        "print('Accuracy: %s' % accuracy_score(y_test, y_pred))\n",
        "print(classification_report(y_test,y_pred,target_names=my_tags))\n",
        "#print(confusion_matrix(y_test,y_pred))\n",
        "\n",
        "conf_mat = confusion_matrix(y_true=y_test, y_pred=y_pred)\n",
        "print('Confusion matrix:\\n', conf_mat)\n",
        "\n",
        "labels = ['Balance Sheets','Cash Flow','Income Statement','Notes','Others']\n",
        "fig = plt.figure()\n",
        "ax = fig.add_subplot(111)\n",
        "cax = ax.matshow(conf_mat, cmap=plt.cm.Blues)\n",
        "fig.colorbar(cax)\n",
        "ax.set_xticklabels([''] + labels)\n",
        "ax.set_yticklabels([''] + labels)\n",
        "plt.xlabel('Predicted')\n",
        "plt.ylabel('Expected')\n",
        "plt.show()"
      ],
      "metadata": {
        "colab": {
          "base_uri": "https://localhost:8080/",
          "height": 799
        },
        "id": "9MsSBe_VA6H4",
        "outputId": "2b66ffa3-3edd-435c-ea9e-e6f47cc9f4d5"
      },
      "execution_count": 50,
      "outputs": [
        {
          "output_type": "stream",
          "name": "stdout",
          "text": [
            "Accuracy: 0.9852941176470589\n",
            "                  precision    recall  f1-score   support\n",
            "\n",
            "  Balance Sheets       1.00      1.00      1.00       258\n",
            "       Cash Flow       1.00      1.00      1.00       247\n",
            "Income Statement       0.98      1.00      0.99       258\n",
            "           Notes       0.95      1.00      0.97       219\n",
            "          Others       0.99      0.93      0.96       242\n",
            "\n",
            "        accuracy                           0.99      1224\n",
            "       macro avg       0.98      0.99      0.98      1224\n",
            "    weighted avg       0.99      0.99      0.99      1224\n",
            "\n",
            "Confusion matrix:\n",
            " [[258   0   0   0   0]\n",
            " [  0 247   0   0   0]\n",
            " [  0   0 257   0   1]\n",
            " [  0   0   0 218   1]\n",
            " [  1   0   4  11 226]]\n"
          ]
        },
        {
          "output_type": "display_data",
          "data": {
            "text/plain": [
              "<Figure size 640x480 with 2 Axes>"
            ],
            "image/png": "[encoded data removed]"
          },
          "metadata": {}
        }
      ]
    },
    {
      "cell_type": "code",
      "source": [
        "# Saving model to disk\n",
        "import pickle\n",
        "import requests\n",
        "import json\n",
        "pickle.dump(rf, open('rfmodel.pkl','wb'))"
      ],
      "metadata": {
        "id": "GP9iVozsBOvQ"
      },
      "execution_count": 51,
      "outputs": []
    },
    {
      "cell_type": "markdown",
      "source": [
        "random forest gives accuracy of 98%"
      ],
      "metadata": {
        "id": "tb_bTTjNC7k7"
      }
    },
    {
      "cell_type": "markdown",
      "source": [
        "#Naive Bayes Classifier\n",
        "NBC is based on describing counts among number of categories so it is used in text classification where the features are related to word counts or frequencies within the document to be classified."
      ],
      "metadata": {
        "id": "UnbmENnbCrLk"
      }
    },
    {
      "cell_type": "code",
      "source": [
        "from sklearn.naive_bayes import MultinomialNB\n",
        "clf = MultinomialNB().fit(X_train, y_train)\n",
        "\n",
        "y_pred = clf.predict(X_test)\n",
        "print('Accuracy: %s' % accuracy_score(y_pred, y_test))\n",
        "print(classification_report(y_test, y_pred,target_names=my_tags))\n",
        "\n",
        "conf_mat = confusion_matrix(y_true=y_test, y_pred=y_pred)\n",
        "print('Confusion matrix:\\n', conf_mat)\n",
        "\n",
        "labels = ['Balance Sheets','Cash Flow','Income Statement','Notes','Others']\n",
        "fig = plt.figure()\n",
        "ax = fig.add_subplot(111)\n",
        "cax = ax.matshow(conf_mat, cmap=plt.cm.Blues)\n",
        "fig.colorbar(cax)\n",
        "ax.set_xticklabels([''] + labels)\n",
        "ax.set_yticklabels([''] + labels)\n",
        "plt.xlabel('Predicted')\n",
        "plt.ylabel('Expected')\n",
        "plt.show()"
      ],
      "metadata": {
        "colab": {
          "base_uri": "https://localhost:8080/",
          "height": 799
        },
        "id": "l8gRItRnCawV",
        "outputId": "61d6890d-85db-4a55-c0a1-8a0bf3fabc03"
      },
      "execution_count": 52,
      "outputs": [
        {
          "output_type": "stream",
          "name": "stdout",
          "text": [
            "Accuracy: 0.9125816993464052\n",
            "                  precision    recall  f1-score   support\n",
            "\n",
            "  Balance Sheets       0.96      0.99      0.97       258\n",
            "       Cash Flow       0.97      0.98      0.98       247\n",
            "Income Statement       0.85      1.00      0.92       258\n",
            "           Notes       0.85      0.87      0.86       219\n",
            "          Others       0.96      0.70      0.81       242\n",
            "\n",
            "        accuracy                           0.91      1224\n",
            "       macro avg       0.92      0.91      0.91      1224\n",
            "    weighted avg       0.92      0.91      0.91      1224\n",
            "\n",
            "Confusion matrix:\n",
            " [[256   0   0   1   1]\n",
            " [  0 243   0   4   0]\n",
            " [  0   0 258   0   0]\n",
            " [  3   3  16 191   6]\n",
            " [  9   5  31  28 169]]\n"
          ]
        },
        {
          "output_type": "display_data",
          "data": {
            "text/plain": [
              "<Figure size 640x480 with 2 Axes>"
            ],
            "image/png": "[encoded data removed]"
          },
          "metadata": {}
        }
      ]
    },
    {
      "cell_type": "code",
      "source": [
        "# Saving model to disk\n",
        "import pickle\n",
        "import requests\n",
        "import json\n",
        "pickle.dump(clf, open('nbmodel.pkl','wb'))"
      ],
      "metadata": {
        "id": "oiDr9pJjP-KA"
      },
      "execution_count": 53,
      "outputs": []
    },
    {
      "cell_type": "markdown",
      "source": [
        "Naive bayes classifier gives accuracy of 91%"
      ],
      "metadata": {
        "id": "BB_waN77DIoQ"
      }
    },
    {
      "cell_type": "markdown",
      "source": [
        "#XGBoost Classifier\n",
        "Extreme Gradiant Boosting algorithm is an tree ensemble model which is optimized to predict quicker by utilizing available resources and takes care of over fitting."
      ],
      "metadata": {
        "id": "5v79wDaZDZK4"
      }
    },
    {
      "cell_type": "code",
      "source": [
        "from xgboost import XGBClassifier\n",
        "from sklearn.metrics import accuracy_score\n",
        "xgb = XGBClassifier()\n",
        "xgb.fit(X_train, y_train)\n",
        "y_pred = xgb.predict(X_test)\n",
        "\n",
        "accuracy = accuracy_score(y_test, y_pred)\n",
        "print(\"Accuracy: %s\" % (accuracy))\n",
        "print(classification_report(y_test, y_pred,target_names=my_tags))\n",
        "\n",
        "conf_mat = confusion_matrix(y_true=y_test, y_pred=y_pred)\n",
        "print('Confusion matrix:\\n', conf_mat)\n",
        "\n",
        "labels = ['Balance Sheets','Cash Flow','Income Statement','Notes','Others']\n",
        "fig = plt.figure()\n",
        "ax = fig.add_subplot(111)\n",
        "cax = ax.matshow(conf_mat, cmap=plt.cm.Blues)\n",
        "fig.colorbar(cax)\n",
        "ax.set_xticklabels([''] + labels)\n",
        "ax.set_yticklabels([''] + labels)\n",
        "plt.xlabel('Predicted')\n",
        "plt.ylabel('Expected')\n",
        "plt.show()"
      ],
      "metadata": {
        "colab": {
          "base_uri": "https://localhost:8080/",
          "height": 799
        },
        "id": "9TCujz62C0hl",
        "outputId": "7f166626-a355-468e-83b9-7815ce0b4141"
      },
      "execution_count": 54,
      "outputs": [
        {
          "output_type": "stream",
          "name": "stdout",
          "text": [
            "Accuracy: 0.9836601307189542\n",
            "                  precision    recall  f1-score   support\n",
            "\n",
            "  Balance Sheets       1.00      1.00      1.00       258\n",
            "       Cash Flow       1.00      1.00      1.00       247\n",
            "Income Statement       0.97      1.00      0.98       258\n",
            "           Notes       0.97      0.98      0.98       219\n",
            "          Others       0.98      0.94      0.96       242\n",
            "\n",
            "        accuracy                           0.98      1224\n",
            "       macro avg       0.98      0.98      0.98      1224\n",
            "    weighted avg       0.98      0.98      0.98      1224\n",
            "\n",
            "Confusion matrix:\n",
            " [[258   0   0   0   0]\n",
            " [  0 247   0   0   0]\n",
            " [  0   0 257   0   1]\n",
            " [  0   0   0 215   4]\n",
            " [  1   0   7   7 227]]\n"
          ]
        },
        {
          "output_type": "display_data",
          "data": {
            "text/plain": [
              "<Figure size 640x480 with 2 Axes>"
            ],
            "image/png": "[encoded data removed]"
          },
          "metadata": {}
        }
      ]
    },
    {
      "cell_type": "code",
      "source": [
        "# Saving model to disk\n",
        "import pickle\n",
        "import requests\n",
        "import json\n",
        "pickle.dump(clf, open('xgboost.pkl','wb'))"
      ],
      "metadata": {
        "id": "arDmLjlJhBZj"
      },
      "execution_count": 55,
      "outputs": []
    },
    {
      "cell_type": "markdown",
      "source": [
        "XGBoost gives accuracy of 98%"
      ],
      "metadata": {
        "id": "3J4ivbopDvAr"
      }
    },
    {
      "cell_type": "markdown",
      "source": [
        "#Demo of the trained model in action"
      ],
      "metadata": {
        "id": "SYX3W2hQI1iN"
      }
    },
    {
      "cell_type": "code",
      "source": [
        "import pandas as pd\n",
        "from bs4 import BeautifulSoup\n",
        "\n",
        "def extract_text_from_html(html_link):\n",
        "    try:\n",
        "        # Open the HTML file and read its content\n",
        "        with open(html_link, 'r', encoding='utf-8') as file:\n",
        "            content = file.read()\n",
        "        # Parse the HTML content\n",
        "        soup = BeautifulSoup(content, 'lxml')\n",
        "        # Extract text from the HTML\n",
        "        text = soup.get_text(separator=' ', strip=True)\n",
        "        return [text]\n",
        "    except Exception as e:\n",
        "        print(f\"Error extracting text from {html_link}: {e}\")\n",
        "        return None"
      ],
      "metadata": {
        "id": "EYJXLMkgHkZd"
      },
      "execution_count": 58,
      "outputs": []
    },
    {
      "cell_type": "code",
      "source": [
        "#Loading the saved model and a random PDF file to test classification\n",
        "rfmodel = pickle.load(open('/content/rfmodel.pkl','rb'))\n",
        "nb_model = pickle.load(open('/content/nbmodel.pkl','rb'))\n",
        "xgb_model = pickle.load(open('/content/xgboost.pkl','rb'))\n"
      ],
      "metadata": {
        "id": "J4zpQtk6PdrV"
      },
      "execution_count": 56,
      "outputs": []
    },
    {
      "cell_type": "code",
      "source": [
        "#Load the test or sample file\n",
        "demofile='/content/drive/MyDrive/data/data/Balance Sheets/18391125_2.html'"
      ],
      "metadata": {
        "id": "1I-GcqaWh4-E"
      },
      "execution_count": 68,
      "outputs": []
    },
    {
      "cell_type": "code",
      "source": [
        "textdata = extract_text_from_html(demofile)"
      ],
      "metadata": {
        "id": "5QBIVDaBJQUo"
      },
      "execution_count": 69,
      "outputs": []
    },
    {
      "cell_type": "code",
      "source": [
        "dfdemo = pd.DataFrame(textdata, columns = ['Data'])"
      ],
      "metadata": {
        "id": "WtEXgyNRMVqG"
      },
      "execution_count": 70,
      "outputs": []
    },
    {
      "cell_type": "code",
      "source": [
        "import re\n",
        "import string\n",
        "from nltk.corpus import stopwords\n",
        "from nltk.stem import WordNetLemmatizer\n",
        "\n",
        "# Function to remove specific patterns\n",
        "def remove_patterns(text):\n",
        "    # Defining patterns to remove\n",
        "    patterns_to_remove = [r'\\b\\d+(?:st|nd|rd|th)\\b', r'\\bbj\\b', r'\\bivj\\b']\n",
        "\n",
        "    # Replace patterns with empty string\n",
        "    for pattern in patterns_to_remove:\n",
        "        text = re.sub(pattern, '', text)\n",
        "    return text\n",
        "\n",
        "def remove_roman(text):\n",
        "    # Define pattern for Roman numerals (case-insensitive)\n",
        "    roman_pattern = r'\\b(?:i{1,3}|iv|v|vi{0,3}|ix|x{1,3}|xl|l|lx{0,3}|xc|c{1,3}|cd|d|dc{0,3}|cm|m{1,3})\\b'\n",
        "    # Replace Roman numerals with empty string\n",
        "    return re.sub(roman_pattern, '', text, flags=re.IGNORECASE)\n",
        "\n",
        "dfdemo = pd.DataFrame(textdata, columns = ['Data'])\n",
        "# Pre-processing the extracted textual data\n",
        "stop = stopwords.words('english')\n",
        "stemmer = WordNetLemmatizer()\n",
        "\n",
        "for index, row in dfdemo.iterrows():\n",
        "    text = row['Data']\n",
        "    # Lower case conversion\n",
        "    text = \" \".join(text.lower() for text in text.split())\n",
        "    # Getting rid of special characters\n",
        "    text = text.translate(str.maketrans('', '', string.punctuation))\n",
        "    # Removing specific patterns\n",
        "    text = remove_patterns(text)\n",
        "    # Removing standalone numeric values\n",
        "    text = re.sub(r'\\b\\d+\\b', '', text)\n",
        "    # Removing Roman numerals\n",
        "    text = remove_roman(text)\n",
        "    # Removing stop words\n",
        "    text = \" \".join(word for word in text.split() if word not in stop)\n",
        "    # Removing single letters\n",
        "    text = \" \".join(word for word in text.split() if len(word) > 1)\n",
        "    # Converting words to their dictionary form\n",
        "    text = \" \".join(stemmer.lemmatize(word) for word in text.split())\n",
        "    # Update the 'pdf_text' column with preprocessed text\n",
        "    dfdemo.at[index, 'Data'] = text\n"
      ],
      "metadata": {
        "id": "71K6UP80OYZS"
      },
      "execution_count": 71,
      "outputs": []
    },
    {
      "cell_type": "code",
      "source": [
        "dfdemo.iloc[0]['Data']"
      ],
      "metadata": {
        "colab": {
          "base_uri": "https://localhost:8080/",
          "height": 127
        },
        "id": "MsexD7ZYMWUT",
        "outputId": "22c2cbcb-4288-44d3-af5b-385b03174e07"
      },
      "execution_count": 72,
      "outputs": [
        {
          "output_type": "execute_result",
          "data": {
            "text/plain": [
              "'consolidated standalone particular 31mar18 31mar17 31mar18 31mar17 asset noncurrent asset property plant equipment capital workinprogress goodwill intangible asset intangible asset development financial asset investment loan financial asset deferred tax asset net income tax asset net noncurrent asset total noncurrent asset current asset inventory financial asset investment trade receivables cash cash equivalent bank balance loan financial asset current asset total current asset total asset equity liability equity equity share capital equity equity attributable shareholder company noncontrolling interest total equity noncurrent liability financial liability borrowing financial liability provision deferred tax liability net income tax liability net noncurrent liability total noncurrent liability current liability financial liability borrowing trade payable financial liability income tax liability net provision current liability total current liability total liability total equity liability'"
            ],
            "application/vnd.google.colaboratory.intrinsic+json": {
              "type": "string"
            }
          },
          "metadata": {},
          "execution_count": 72
        }
      ]
    },
    {
      "cell_type": "code",
      "source": [
        "# Assigning vectors to the input data\n",
        "import joblib\n",
        "tfidfconverter = joblib.load('tfidf_vectorizer.pkl')\n",
        "inputs = pd.DataFrame(tfidfconverter.transform(dfdemo['Data']).toarray())\n",
        "inputs"
      ],
      "metadata": {
        "colab": {
          "base_uri": "https://localhost:8080/",
          "height": 110
        },
        "id": "UHRcI7UUHPgJ",
        "outputId": "13407abb-21a4-4474-d52e-55e6f58e24af"
      },
      "execution_count": 73,
      "outputs": [
        {
          "output_type": "execute_result",
          "data": {
            "text/plain": [
              "   0    1    2    3        4         5    6    7    8    9    ...  990  991  \\\n",
              "0  0.0  0.0  0.0  0.0  0.13652  0.139301  0.0  0.0  0.0  0.0  ...  0.0  0.0   \n",
              "\n",
              "   992  993  994  995  996  997  998  999  \n",
              "0  0.0  0.0  0.0  0.0  0.0  0.0  0.0  0.0  \n",
              "\n",
              "[1 rows x 1000 columns]"
            ],
            "text/html": [
              "\n",
              "  <div id=\"df-00194a96-4a09-4f2a-823c-7929ed043e33\" class=\"colab-df-container\">\n",
              "    <div>\n",
              "<style scoped>\n",
              "    .dataframe tbody tr th:only-of-type {\n",
              "        vertical-align: middle;\n",
              "    }\n",
              "\n",
              "    .dataframe tbody tr th {\n",
              "        vertical-align: top;\n",
              "    }\n",
              "\n",
              "    .dataframe thead th {\n",
              "        text-align: right;\n",
              "    }\n",
              "</style>\n",
              "<table border=\"1\" class=\"dataframe\">\n",
              "  <thead>\n",
              "    <tr style=\"text-align: right;\">\n",
              "      <th></th>\n",
              "      <th>0</th>\n",
              "      <th>1</th>\n",
              "      <th>2</th>\n",
              "      <th>3</th>\n",
              "      <th>4</th>\n",
              "      <th>5</th>\n",
              "      <th>6</th>\n",
              "      <th>7</th>\n",
              "      <th>8</th>\n",
              "      <th>9</th>\n",
              "      <th>...</th>\n",
              "      <th>990</th>\n",
              "      <th>991</th>\n",
              "      <th>992</th>\n",
              "      <th>993</th>\n",
              "      <th>994</th>\n",
              "      <th>995</th>\n",
              "      <th>996</th>\n",
              "      <th>997</th>\n",
              "      <th>998</th>\n",
              "      <th>999</th>\n",
              "    </tr>\n",
              "  </thead>\n",
              "  <tbody>\n",
              "    <tr>\n",
              "      <th>0</th>\n",
              "      <td>0.0</td>\n",
              "      <td>0.0</td>\n",
              "      <td>0.0</td>\n",
              "      <td>0.0</td>\n",
              "      <td>0.13652</td>\n",
              "      <td>0.139301</td>\n",
              "      <td>0.0</td>\n",
              "      <td>0.0</td>\n",
              "      <td>0.0</td>\n",
              "      <td>0.0</td>\n",
              "      <td>...</td>\n",
              "      <td>0.0</td>\n",
              "      <td>0.0</td>\n",
              "      <td>0.0</td>\n",
              "      <td>0.0</td>\n",
              "      <td>0.0</td>\n",
              "      <td>0.0</td>\n",
              "      <td>0.0</td>\n",
              "      <td>0.0</td>\n",
              "      <td>0.0</td>\n",
              "      <td>0.0</td>\n",
              "    </tr>\n",
              "  </tbody>\n",
              "</table>\n",
              "<p>1 rows × 1000 columns</p>\n",
              "</div>\n",
              "    <div class=\"colab-df-buttons\">\n",
              "\n",
              "  <div class=\"colab-df-container\">\n",
              "    <button class=\"colab-df-convert\" onclick=\"convertToInteractive('df-00194a96-4a09-4f2a-823c-7929ed043e33')\"\n",
              "            title=\"Convert this dataframe to an interactive table.\"\n",
              "            style=\"display:none;\">\n",
              "\n",
              "  <svg xmlns=\"http://www.w3.org/2000/svg\" height=\"24px\" viewBox=\"0 -960 960 960\">\n",
              "    <path d=\"M120-120v-720h720v720H120Zm60-500h600v-160H180v160Zm220 220h160v-160H400v160Zm0 220h160v-160H400v160ZM180-400h160v-160H180v160Zm440 0h160v-160H620v160ZM180-180h160v-160H180v160Zm440 0h160v-160H620v160Z\"/>\n",
              "  </svg>\n",
              "    </button>\n",
              "\n",
              "  <style>\n",
              "    .colab-df-container {\n",
              "      display:flex;\n",
              "      gap: 12px;\n",
              "    }\n",
              "\n",
              "    .colab-df-convert {\n",
              "      background-color: #E8F0FE;\n",
              "      border: none;\n",
              "      border-radius: 50%;\n",
              "      cursor: pointer;\n",
              "      display: none;\n",
              "      fill: #1967D2;\n",
              "      height: 32px;\n",
              "      padding: 0 0 0 0;\n",
              "      width: 32px;\n",
              "    }\n",
              "\n",
              "    .colab-df-convert:hover {\n",
              "      background-color: #E2EBFA;\n",
              "      box-shadow: 0px 1px 2px rgba(60, 64, 67, 0.3), 0px 1px 3px 1px rgba(60, 64, 67, 0.15);\n",
              "      fill: #174EA6;\n",
              "    }\n",
              "\n",
              "    .colab-df-buttons div {\n",
              "      margin-bottom: 4px;\n",
              "    }\n",
              "\n",
              "    [theme=dark] .colab-df-convert {\n",
              "      background-color: #3B4455;\n",
              "      fill: #D2E3FC;\n",
              "    }\n",
              "\n",
              "    [theme=dark] .colab-df-convert:hover {\n",
              "      background-color: #434B5C;\n",
              "      box-shadow: 0px 1px 3px 1px rgba(0, 0, 0, 0.15);\n",
              "      filter: drop-shadow(0px 1px 2px rgba(0, 0, 0, 0.3));\n",
              "      fill: #FFFFFF;\n",
              "    }\n",
              "  </style>\n",
              "\n",
              "    <script>\n",
              "      const buttonEl =\n",
              "        document.querySelector('#df-00194a96-4a09-4f2a-823c-7929ed043e33 button.colab-df-convert');\n",
              "      buttonEl.style.display =\n",
              "        google.colab.kernel.accessAllowed ? 'block' : 'none';\n",
              "\n",
              "      async function convertToInteractive(key) {\n",
              "        const element = document.querySelector('#df-00194a96-4a09-4f2a-823c-7929ed043e33');\n",
              "        const dataTable =\n",
              "          await google.colab.kernel.invokeFunction('convertToInteractive',\n",
              "                                                    [key], {});\n",
              "        if (!dataTable) return;\n",
              "\n",
              "        const docLinkHtml = 'Like what you see? Visit the ' +\n",
              "          '<a target=\"_blank\" href=https://colab.research.google.com/notebooks/data_table.ipynb>data table notebook</a>'\n",
              "          + ' to learn more about interactive tables.';\n",
              "        element.innerHTML = '';\n",
              "        dataTable['output_type'] = 'display_data';\n",
              "        await google.colab.output.renderOutput(dataTable, element);\n",
              "        const docLink = document.createElement('div');\n",
              "        docLink.innerHTML = docLinkHtml;\n",
              "        element.appendChild(docLink);\n",
              "      }\n",
              "    </script>\n",
              "  </div>\n",
              "\n",
              "\n",
              "  <div id=\"id_d2c91cd3-f15a-46cf-8d3c-6a08aead931f\">\n",
              "    <style>\n",
              "      .colab-df-generate {\n",
              "        background-color: #E8F0FE;\n",
              "        border: none;\n",
              "        border-radius: 50%;\n",
              "        cursor: pointer;\n",
              "        display: none;\n",
              "        fill: #1967D2;\n",
              "        height: 32px;\n",
              "        padding: 0 0 0 0;\n",
              "        width: 32px;\n",
              "      }\n",
              "\n",
              "      .colab-df-generate:hover {\n",
              "        background-color: #E2EBFA;\n",
              "        box-shadow: 0px 1px 2px rgba(60, 64, 67, 0.3), 0px 1px 3px 1px rgba(60, 64, 67, 0.15);\n",
              "        fill: #174EA6;\n",
              "      }\n",
              "\n",
              "      [theme=dark] .colab-df-generate {\n",
              "        background-color: #3B4455;\n",
              "        fill: #D2E3FC;\n",
              "      }\n",
              "\n",
              "      [theme=dark] .colab-df-generate:hover {\n",
              "        background-color: #434B5C;\n",
              "        box-shadow: 0px 1px 3px 1px rgba(0, 0, 0, 0.15);\n",
              "        filter: drop-shadow(0px 1px 2px rgba(0, 0, 0, 0.3));\n",
              "        fill: #FFFFFF;\n",
              "      }\n",
              "    </style>\n",
              "    <button class=\"colab-df-generate\" onclick=\"generateWithVariable('inputs')\"\n",
              "            title=\"Generate code using this dataframe.\"\n",
              "            style=\"display:none;\">\n",
              "\n",
              "  <svg xmlns=\"http://www.w3.org/2000/svg\" height=\"24px\"viewBox=\"0 0 24 24\"\n",
              "       width=\"24px\">\n",
              "    <path d=\"M7,19H8.4L18.45,9,17,7.55,7,17.6ZM5,21V16.75L18.45,3.32a2,2,0,0,1,2.83,0l1.4,1.43a1.91,1.91,0,0,1,.58,1.4,1.91,1.91,0,0,1-.58,1.4L9.25,21ZM18.45,9,17,7.55Zm-12,3A5.31,5.31,0,0,0,4.9,8.1,5.31,5.31,0,0,0,1,6.5,5.31,5.31,0,0,0,4.9,4.9,5.31,5.31,0,0,0,6.5,1,5.31,5.31,0,0,0,8.1,4.9,5.31,5.31,0,0,0,12,6.5,5.46,5.46,0,0,0,6.5,12Z\"/>\n",
              "  </svg>\n",
              "    </button>\n",
              "    <script>\n",
              "      (() => {\n",
              "      const buttonEl =\n",
              "        document.querySelector('#id_d2c91cd3-f15a-46cf-8d3c-6a08aead931f button.colab-df-generate');\n",
              "      buttonEl.style.display =\n",
              "        google.colab.kernel.accessAllowed ? 'block' : 'none';\n",
              "\n",
              "      buttonEl.onclick = () => {\n",
              "        google.colab.notebook.generateWithVariable('inputs');\n",
              "      }\n",
              "      })();\n",
              "    </script>\n",
              "  </div>\n",
              "\n",
              "    </div>\n",
              "  </div>\n"
            ],
            "application/vnd.google.colaboratory.intrinsic+json": {
              "type": "dataframe",
              "variable_name": "inputs"
            }
          },
          "metadata": {},
          "execution_count": 73
        }
      ]
    },
    {
      "cell_type": "code",
      "source": [
        "# Predicting the category of the input file with the help of trained model\n",
        "\n",
        "output_category = rfmodel.predict(inputs)\n",
        "#Comment the next line if you are testing word2vec model as it doesn't require transformation\n",
        "output_category = (labelencoder.inverse_transform((output_category)))\n",
        "output_category"
      ],
      "metadata": {
        "id": "Mw5CvGrBPRbi",
        "colab": {
          "base_uri": "https://localhost:8080/"
        },
        "outputId": "3678075a-33da-4427-b412-bf52c19dda02"
      },
      "execution_count": 74,
      "outputs": [
        {
          "output_type": "execute_result",
          "data": {
            "text/plain": [
              "array(['Balance Sheets'], dtype=object)"
            ]
          },
          "metadata": {},
          "execution_count": 74
        }
      ]
    },
    {
      "cell_type": "code",
      "source": [
        "# Predicting the category of the input file with the help of trained model\n",
        "\n",
        "output_category = nb_model.predict(inputs)\n",
        "#Comment the next line if you are testing word2vec model as it doesn't require transformation\n",
        "output_category = (labelencoder.inverse_transform((output_category)))\n",
        "output_category"
      ],
      "metadata": {
        "colab": {
          "base_uri": "https://localhost:8080/"
        },
        "id": "Qr-YNp8bSojR",
        "outputId": "630ed6c5-fe1d-44c0-b86e-fa359fe6d957"
      },
      "execution_count": 75,
      "outputs": [
        {
          "output_type": "execute_result",
          "data": {
            "text/plain": [
              "array(['Balance Sheets'], dtype=object)"
            ]
          },
          "metadata": {},
          "execution_count": 75
        }
      ]
    },
    {
      "cell_type": "code",
      "source": [
        "# Predicting the category of the input file with the help of trained model\n",
        "\n",
        "output_category = xgb_model.predict(inputs)\n",
        "#Comment the next line if you are testing word2vec model as it doesn't require transformation\n",
        "output_category = (labelencoder.inverse_transform((output_category)))\n",
        "output_category"
      ],
      "metadata": {
        "colab": {
          "base_uri": "https://localhost:8080/"
        },
        "id": "aalstionhe0-",
        "outputId": "d35bf12c-b23f-4130-d4fa-401eed27c8d0"
      },
      "execution_count": 76,
      "outputs": [
        {
          "output_type": "execute_result",
          "data": {
            "text/plain": [
              "array(['Balance Sheets'], dtype=object)"
            ]
          },
          "metadata": {},
          "execution_count": 76
        }
      ]
    },
    {
      "cell_type": "markdown",
      "source": [
        "#All of the above three models are predicting the document(html) in right category."
      ],
      "metadata": {
        "id": "rMgYZiCtjuDi"
      }
    }
  ],
  "metadata": {
    "colab": {
      "provenance": []
    },
    "kernelspec": {
      "display_name": "Python 3",
      "name": "python3"
    },
    "language_info": {
      "name": "python"
    }
  },
  "nbformat": 4,
  "nbformat_minor": 0
}